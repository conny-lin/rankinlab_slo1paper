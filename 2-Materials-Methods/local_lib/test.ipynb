{
 "cells": [
  {
   "cell_type": "code",
   "execution_count": 5,
   "metadata": {
    "tags": []
   },
   "outputs": [
    {
     "output_type": "stream",
     "name": "stdout",
     "text": "importing libraries\nset variables\nstart strains\n"
    }
   ],
   "source": [
    "# calcuate last 3 taps stats for TAR\n",
    "# import libraries\n",
    "print('importing libraries')\n",
    "import os, glob, sys, pathlib, shutil\n",
    "import numpy as np\n",
    "import pandas as pd\n",
    "from statsmodels.formula.api import ols\n",
    "from statsmodels.stats.anova import anova_lm\n",
    "from statsmodels.stats import multicomp\n",
    "import matplotlib.pyplot as plt\n",
    "import seaborn as sns\n",
    "# add local library\n",
    "lib = '/Users/connylin/Dropbox/CA/_Publications/Manuscript RL Alcohol hab model slo1/rankinlab_slo1paper/2-Materials-Methods/local_lib'\n",
    "if lib not in sys.path:\n",
    "    sys.path.insert(1, lib)\n",
    "import etl, stats, graphpack\n",
    "\n",
    "# set local variables --\n",
    "print('set variables')\n",
    "# paths for data\n",
    "DATA_DIR = '/Users/connylin/Dropbox/CA/_Publications/Manuscript RL Alcohol hab model slo1/rankinlab_slo1paper/3-Results/Fig5-slo1 cell specific ko/data'\n",
    "SUB_DIR = 'TAR/Dance_rType'\n",
    "PRJ_TAG = 'last3taps' \n",
    "MEASURES = ['AccProb']\n",
    "ANOVA_STRING = 'strain + dose + strain:dose'\n",
    "pvlimit = 0.001\n",
    "alpha = 0.05\n",
    "independent_variable = 'groupname'\n",
    "# get strain folder\n",
    "strain_dirs = glob.glob(os.path.join(DATA_DIR, '*', SUB_DIR))\n",
    "\n",
    "print('start strains')\n",
    "for strain_dir in strain_dirs:\n",
    "    print(strain_dir)\n",
    "    # strain info and dirs\n",
    "    path = pathlib.PurePath(strain_dir)\n",
    "    strain_name = path.parent.name\n",
    "    print(f'\\n\\nProcessing: {strain_name}')\n",
    "    output_dir = strain_dir\n",
    "\n",
    "    # load data\n",
    "    data_path = os.path.join(strain_dir, 'rawdata.csv')\n",
    "    data = pd.read_csv(data_path)\n",
    "\n",
    "    # get only N2 data from this set (disable until apply to all analysis)\n",
    "    # if any(data['groupname'] == 'N2'):\n",
    "    #     # exp paths for experimental strain\n",
    "    #     pathobj = map(lambda x: pathlib.PurePath(x), data['mwtpath'])\n",
    "    #     data['exp_path'] = list(map(lambda x: str(x.parent.parent), pathobj))\n",
    "    #     exp_path_strain = data.loc[data['groupname'] == strain_name, 'exp_path'].value_counts().index.values\n",
    "    #     # find N2 equals to exp strain paths\n",
    "    #     data2 = data[data['exp_path'].isin(exp_path_strain)].copy()\n",
    "    #     # put aside the old raw data file\n",
    "    #     data_path_putaside = os.path.join(strain_dir, 'rawdata_n2fromotherexp.csv')\n",
    "    #     shutil.copy(data_path, data_path_putaside)\n",
    "    #     # save raw data with only exp N2 in it\n",
    "    #     data2.to_csv(data_path, index=False)\n",
    "    #     data = data2.copy()\n",
    "    #     del data2\n",
    "    \n",
    "    # data transformation (get last 3 taps avg per plate)\n",
    "    data_last3taps = data[data['tap'].isin([28, 29, 30])].copy()\n",
    "    # drop tap and n \n",
    "    data_last3taps.drop(columns=['n','tap'], inplace=True)\n",
    "    data_last3taps = data_last3taps.groupby(by=['mwtpath','groupname','strain','dose']).agg('mean')\n",
    "    data_last3taps.reset_index(inplace=True)\n",
    "    # put it back in main data\n",
    "    data = data_last3taps.copy()\n",
    "\n",
    "    # output excel descriptive stats for graphing\n",
    "    excel_output = data_last3taps.groupby(by='groupname').agg(['count','mean','sem'])\n",
    "    excel_filepath = os.path.join(strain_dir, 'Last3taps.xlsx')\n",
    "    with pd.ExcelWriter(excel_filepath) as writer: \n",
    "         for msr in MEASURES: \n",
    "             excel_output[msr].to_excel(writer, sheet_name=msr)\n",
    "    print('excel file written')\n",
    "\n",
    "    # to stats --\n",
    "    # open text file to record stats output\n",
    "    filename = os.path.join(output_dir, 'anova_'+PRJ_TAG+'.txt')\n",
    "    text_file = open(filename, 'w')\n",
    "    text_file.write(f'ANOVA {PRJ_TAG}\\n')\n",
    "    # run anova, posthoc, swarm plot through each measures\n",
    "    for msr in MEASURES:\n",
    "        # write header for text output\n",
    "        write_string = f'<{msr}>'\n",
    "        print(write_string)\n",
    "        text_file.write(write_string)\n",
    "        write_string = '--ANOVA--'\n",
    "        print(write_string)\n",
    "        text_file.write(write_string)\n",
    "        # run anova \n",
    "        ols_equation = f'{msr} ~ {ANOVA_STRING}'\n",
    "        lm = ols(ols_equation, data).fit()\n",
    "        anovaT = anova_lm(lm)\n",
    "        # print ANOVA results\n",
    "        for factor in anovaT.index[:-1]:\n",
    "            df = anovaT.loc[factor, 'df']\n",
    "            F = anovaT.loc[factor, 'F']\n",
    "            pv = stats.pvalue_string(anovaT.loc[factor, 'PR(>F)'], \n",
    "                                    pvlimit, alpha)\n",
    "            write_string = f'{factor}: F({df:.0f})={F:.3f}, {pv}'\n",
    "            print(f'\\t{write_string}')\n",
    "            text_file.write(f'\\n{write_string}')\n",
    "        # posthoc (get rid of nan)\n",
    "        data_no_nan = data[['groupname', msr]].dropna()\n",
    "        r = multicomp.pairwise_tukeyhsd(data_no_nan[msr], \n",
    "                                        data_no_nan['groupname'])\n",
    "        # print posthoc results\n",
    "        write_string = '--Tukey HSD posthoc--'\n",
    "        print(write_string)\n",
    "        text_file.write(f'\\n{write_string}')\n",
    "        df = pd.DataFrame(data=r._results_table.data[1:], \n",
    "                            columns=r._results_table.data[0])\n",
    "        for i in df.index.values:\n",
    "            g1 = df.loc[i, 'group1']\n",
    "            g2 = df.loc[i, 'group2']\n",
    "            pv = stats.pvalue_string(df.loc[i, 'p-adj'], pvlimit, alpha)\n",
    "            write_string = f'{g1} vs {g2}, {pv}'\n",
    "            print(f'\\t{write_string}')\n",
    "            text_file.write(f'\\n{write_string}')\n",
    "        \n",
    "        # swarm plot --\n",
    "        # make graph\n",
    "        plt.figure()\n",
    "        sns.swarmplot(x='groupname',y=msr,data=data)\n",
    "        plt.title(msr)\n",
    "        # construct save path\n",
    "        savefname = f'{msr}_swarmplot_{PRJ_TAG}.jpeg'\n",
    "        savepath = os.path.join(output_dir, savefname)\n",
    "        # save fig\n",
    "        plt.savefig(savepath)\n",
    "        plt.close()\n",
    "    # finish text export\n",
    "    text_file.close()\n",
    "    print(f'\\n{strain_name} complete')\n",
    "    print('=============================================')\n",
    "\n",
    "    "
   ]
  },
  {
   "cell_type": "code",
   "execution_count": 3,
   "metadata": {},
   "outputs": [
    {
     "output_type": "error",
     "ename": "NameError",
     "evalue": "name 'strain_name' is not defined",
     "traceback": [
      "\u001b[0;31m---------------------------------------------------------------------------\u001b[0m",
      "\u001b[0;31mNameError\u001b[0m                                 Traceback (most recent call last)",
      "\u001b[0;32m<ipython-input-3-3c371dcaadf3>\u001b[0m in \u001b[0;36m<module>\u001b[0;34m\u001b[0m\n\u001b[0;32m----> 1\u001b[0;31m \u001b[0mstrain_name\u001b[0m\u001b[0;34m\u001b[0m\u001b[0;34m\u001b[0m\u001b[0m\n\u001b[0m",
      "\u001b[0;31mNameError\u001b[0m: name 'strain_name' is not defined"
     ]
    }
   ],
   "source": [
    "strain_name"
   ]
  },
  {
   "cell_type": "code",
   "execution_count": 6,
   "metadata": {},
   "outputs": [
    {
     "output_type": "execute_result",
     "data": {
      "text/plain": "[]"
     },
     "metadata": {},
     "execution_count": 6
    }
   ],
   "source": [
    "strain_dirs"
   ]
  },
  {
   "cell_type": "code",
   "execution_count": null,
   "metadata": {},
   "outputs": [],
   "source": []
  }
 ],
 "metadata": {
  "language_info": {
   "codemirror_mode": {
    "name": "ipython",
    "version": 3
   },
   "file_extension": ".py",
   "mimetype": "text/x-python",
   "name": "python",
   "nbconvert_exporter": "python",
   "pygments_lexer": "ipython3",
   "version": "3.7.7-final"
  },
  "orig_nbformat": 2,
  "kernelspec": {
   "name": "python3",
   "display_name": "Python 3"
  }
 },
 "nbformat": 4,
 "nbformat_minor": 2
}