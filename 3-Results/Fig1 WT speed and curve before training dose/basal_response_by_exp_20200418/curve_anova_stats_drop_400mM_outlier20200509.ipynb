{
 "cells": [
  {
   "cell_type": "markdown",
   "metadata": {},
   "source": [
    "# Body curve ANOVA and posthoc by plate\n",
    "Conny Lin | May 3, 2020 | updated: May 9, 2020"
   ]
  },
  {
   "cell_type": "code",
   "execution_count": 104,
   "metadata": {
    "jupyter": {
     "source_hidden": true
    }
   },
   "outputs": [],
   "source": [
    "# - plan - \n",
    "# get csv by plate\n",
    "# export descriptive csv for excel graphing\n",
    "# transform to anova input\n",
    "# run anova\n",
    "# run posthoc\n",
    "# put in table\n",
    "# visualize differences between groups"
   ]
  },
  {
   "cell_type": "code",
   "execution_count": 105,
   "metadata": {},
   "outputs": [],
   "source": [
    "# import library\n",
    "# import libraries\n",
    "import os\n",
    "import re as re\n",
    "from collections import Counter\n",
    "\n",
    "import numpy as np\n",
    "import pandas as pd\n",
    "\n",
    "import matplotlib.pyplot as plt\n",
    "%matplotlib inline\n",
    "import seaborn as sns\n",
    "\n",
    "from scipy import stats\n",
    "from scipy.stats import norm #used for plotting\n",
    "import statsmodels.api as sm\n",
    "from statsmodels.formula.api import ols\n",
    "from statsmodels.stats.anova import AnovaRM\n",
    "from statsmodels.stats.anova import anova_lm\n",
    "from statsmodels.stats import multicomp\n",
    "from statsmodels.stats.outliers_influence import variance_inflation_factor"
   ]
  },
  {
   "cell_type": "code",
   "execution_count": 106,
   "metadata": {},
   "outputs": [],
   "source": [
    "# functions\n",
    "def report_stats_apa(stattype,dfreedom,testresult,pvalue,plimit=0.001,alpha=0.05):\n",
    "    if pvalue<plimit:\n",
    "        stat_report_str = print(f'{stattype}({dfreedom:.0f}) = {testresult:.3f}, p < {plimit}')\n",
    "    elif p>alpha:\n",
    "        stat_report_str = print(f'{stattype}({dfreedom:.0f}) = {testresult:.3f}, p = n.s.')\n",
    "    else:\n",
    "        stat_report_str = print(f'{stattype}({dfreedom:.0f}) = {testresult:.3f}, p = {pvalue:.3f}')\n",
    "    return stat_report_str"
   ]
  },
  {
   "cell_type": "code",
   "execution_count": 107,
   "metadata": {},
   "outputs": [],
   "source": [
    "def convert_statsmodel_table2dataframe(statsmodel_object):\n",
    "    column_names = statsmodel_object.data[0]\n",
    "    d = statsmodel_object.data[1:]\n",
    "    statsmodel_object_dataframe = pd.DataFrame(d,columns=column_names)\n",
    "    return statsmodel_object_dataframe"
   ]
  },
  {
   "cell_type": "markdown",
   "metadata": {},
   "source": [
    "## work"
   ]
  },
  {
   "cell_type": "code",
   "execution_count": 108,
   "metadata": {},
   "outputs": [],
   "source": [
    "# set working dir\n",
    "working_dir = '/Users/connylin/Dropbox/CA/CA Publications/Manuscript RL Alcohol hab model slo1/3-Results/Fig1 WT speed and curve before training dose/basal_response_by_exp_20200418/'"
   ]
  },
  {
   "cell_type": "code",
   "execution_count": 109,
   "metadata": {},
   "outputs": [],
   "source": [
    "# global variable\n",
    "alpha = 0.05\n",
    "pvlimit = 0.001"
   ]
  },
  {
   "cell_type": "code",
   "execution_count": 110,
   "metadata": {},
   "outputs": [
    {
     "data": {
      "text/html": [
       "<div>\n",
       "<style scoped>\n",
       "    .dataframe tbody tr th:only-of-type {\n",
       "        vertical-align: middle;\n",
       "    }\n",
       "\n",
       "    .dataframe tbody tr th {\n",
       "        vertical-align: top;\n",
       "    }\n",
       "\n",
       "    .dataframe thead th {\n",
       "        text-align: right;\n",
       "    }\n",
       "</style>\n",
       "<table border=\"1\" class=\"dataframe\">\n",
       "  <thead>\n",
       "    <tr style=\"text-align: right;\">\n",
       "      <th></th>\n",
       "      <th>expyear</th>\n",
       "      <th>expname</th>\n",
       "      <th>groupname</th>\n",
       "      <th>mwtname</th>\n",
       "      <th>wormN</th>\n",
       "      <th>speed</th>\n",
       "      <th>speed_SE</th>\n",
       "      <th>curve</th>\n",
       "      <th>curve_SE</th>\n",
       "    </tr>\n",
       "  </thead>\n",
       "  <tbody>\n",
       "    <tr>\n",
       "      <th>0</th>\n",
       "      <td>2012</td>\n",
       "      <td>20120213C_FP_100s30x10s10s_DoseDependency</td>\n",
       "      <td>N2_100mM</td>\n",
       "      <td>20120213_154120</td>\n",
       "      <td>9</td>\n",
       "      <td>0.307969</td>\n",
       "      <td>0.019229</td>\n",
       "      <td>26.808175</td>\n",
       "      <td>0.615400</td>\n",
       "    </tr>\n",
       "    <tr>\n",
       "      <th>1</th>\n",
       "      <td>2012</td>\n",
       "      <td>20120213C_FP_100s30x10s10s_DoseDependency</td>\n",
       "      <td>N2_100mM</td>\n",
       "      <td>20120213_155059</td>\n",
       "      <td>15</td>\n",
       "      <td>0.264298</td>\n",
       "      <td>0.016657</td>\n",
       "      <td>31.725721</td>\n",
       "      <td>0.972318</td>\n",
       "    </tr>\n",
       "    <tr>\n",
       "      <th>2</th>\n",
       "      <td>2012</td>\n",
       "      <td>20120213C_FP_100s30x10s10s_DoseDependency</td>\n",
       "      <td>N2_100mM</td>\n",
       "      <td>20120213_155939</td>\n",
       "      <td>24</td>\n",
       "      <td>0.285712</td>\n",
       "      <td>0.013011</td>\n",
       "      <td>30.255534</td>\n",
       "      <td>0.387169</td>\n",
       "    </tr>\n",
       "    <tr>\n",
       "      <th>3</th>\n",
       "      <td>2012</td>\n",
       "      <td>20120213C_FP_100s30x10s10s_DoseDependency</td>\n",
       "      <td>N2_100mM</td>\n",
       "      <td>20120213_161324</td>\n",
       "      <td>25</td>\n",
       "      <td>0.362677</td>\n",
       "      <td>0.015299</td>\n",
       "      <td>29.494326</td>\n",
       "      <td>0.535562</td>\n",
       "    </tr>\n",
       "    <tr>\n",
       "      <th>4</th>\n",
       "      <td>2012</td>\n",
       "      <td>20120213C_FP_100s30x10s10s_DoseDependency</td>\n",
       "      <td>N2_200mM</td>\n",
       "      <td>20120213_162924</td>\n",
       "      <td>26</td>\n",
       "      <td>0.299793</td>\n",
       "      <td>0.015675</td>\n",
       "      <td>24.495509</td>\n",
       "      <td>0.705827</td>\n",
       "    </tr>\n",
       "  </tbody>\n",
       "</table>\n",
       "</div>"
      ],
      "text/plain": [
       "   expyear                                    expname groupname  \\\n",
       "0     2012  20120213C_FP_100s30x10s10s_DoseDependency  N2_100mM   \n",
       "1     2012  20120213C_FP_100s30x10s10s_DoseDependency  N2_100mM   \n",
       "2     2012  20120213C_FP_100s30x10s10s_DoseDependency  N2_100mM   \n",
       "3     2012  20120213C_FP_100s30x10s10s_DoseDependency  N2_100mM   \n",
       "4     2012  20120213C_FP_100s30x10s10s_DoseDependency  N2_200mM   \n",
       "\n",
       "           mwtname  wormN     speed  speed_SE      curve  curve_SE  \n",
       "0  20120213_154120      9  0.307969  0.019229  26.808175  0.615400  \n",
       "1  20120213_155059     15  0.264298  0.016657  31.725721  0.972318  \n",
       "2  20120213_155939     24  0.285712  0.013011  30.255534  0.387169  \n",
       "3  20120213_161324     25  0.362677  0.015299  29.494326  0.535562  \n",
       "4  20120213_162924     26  0.299793  0.015675  24.495509  0.705827  "
      ]
     },
     "execution_count": 110,
     "metadata": {},
     "output_type": "execute_result"
    }
   ],
   "source": [
    "# get csv by plate\n",
    "p = os.path.join(working_dir, 'desc_stats_by_plate.csv')\n",
    "df = pd.read_csv(p)\n",
    "df.head()"
   ]
  },
  {
   "cell_type": "code",
   "execution_count": 111,
   "metadata": {},
   "outputs": [
    {
     "data": {
      "text/plain": [
       "<matplotlib.axes._subplots.AxesSubplot at 0x1a1cd5bcd0>"
      ]
     },
     "execution_count": 111,
     "metadata": {},
     "output_type": "execute_result"
    },
    {
     "data": {
      "image/png": "[encoded data removed]",
      "text/plain": [
       "<Figure size 432x288 with 1 Axes>"
      ]
     },
     "metadata": {
      "needs_background": "light"
     },
     "output_type": "display_data"
    }
   ],
   "source": [
    "# look at what's wrong with 400mM\n",
    "rows_ind = (df['groupname'] == 'N2') | (df['groupname'] == 'N2_400mM')\n",
    "col_ind = ['groupname','curve','curve_SE']\n",
    "df_400mM = df.loc[rows_ind, col_ind]\n",
    "# graph\n",
    "sns.boxplot(x='groupname',y='curve',data=df_400mM)"
   ]
  },
  {
   "cell_type": "code",
   "execution_count": 112,
   "metadata": {},
   "outputs": [
    {
     "data": {
      "text/html": [
       "<div>\n",
       "<style scoped>\n",
       "    .dataframe tbody tr th:only-of-type {\n",
       "        vertical-align: middle;\n",
       "    }\n",
       "\n",
       "    .dataframe tbody tr th {\n",
       "        vertical-align: top;\n",
       "    }\n",
       "\n",
       "    .dataframe thead th {\n",
       "        text-align: right;\n",
       "    }\n",
       "</style>\n",
       "<table border=\"1\" class=\"dataframe\">\n",
       "  <thead>\n",
       "    <tr style=\"text-align: right;\">\n",
       "      <th></th>\n",
       "      <th>groupname</th>\n",
       "      <th>curve</th>\n",
       "      <th>curve_SE</th>\n",
       "    </tr>\n",
       "  </thead>\n",
       "  <tbody>\n",
       "    <tr>\n",
       "      <th>61</th>\n",
       "      <td>N2_400mM</td>\n",
       "      <td>30.294571</td>\n",
       "      <td>0.737792</td>\n",
       "    </tr>\n",
       "    <tr>\n",
       "      <th>49</th>\n",
       "      <td>N2_400mM</td>\n",
       "      <td>27.348028</td>\n",
       "      <td>0.420538</td>\n",
       "    </tr>\n",
       "    <tr>\n",
       "      <th>29</th>\n",
       "      <td>N2_400mM</td>\n",
       "      <td>22.786661</td>\n",
       "      <td>1.123987</td>\n",
       "    </tr>\n",
       "    <tr>\n",
       "      <th>96</th>\n",
       "      <td>N2_400mM</td>\n",
       "      <td>21.646205</td>\n",
       "      <td>0.755274</td>\n",
       "    </tr>\n",
       "    <tr>\n",
       "      <th>67</th>\n",
       "      <td>N2_400mM</td>\n",
       "      <td>20.506319</td>\n",
       "      <td>0.432525</td>\n",
       "    </tr>\n",
       "    <tr>\n",
       "      <th>30</th>\n",
       "      <td>N2_400mM</td>\n",
       "      <td>20.418954</td>\n",
       "      <td>0.903061</td>\n",
       "    </tr>\n",
       "    <tr>\n",
       "      <th>82</th>\n",
       "      <td>N2_400mM</td>\n",
       "      <td>20.380902</td>\n",
       "      <td>0.579628</td>\n",
       "    </tr>\n",
       "    <tr>\n",
       "      <th>55</th>\n",
       "      <td>N2_400mM</td>\n",
       "      <td>20.175324</td>\n",
       "      <td>0.522992</td>\n",
       "    </tr>\n",
       "    <tr>\n",
       "      <th>90</th>\n",
       "      <td>N2_400mM</td>\n",
       "      <td>20.026409</td>\n",
       "      <td>0.697018</td>\n",
       "    </tr>\n",
       "    <tr>\n",
       "      <th>95</th>\n",
       "      <td>N2_400mM</td>\n",
       "      <td>19.689020</td>\n",
       "      <td>0.556422</td>\n",
       "    </tr>\n",
       "    <tr>\n",
       "      <th>12</th>\n",
       "      <td>N2_400mM</td>\n",
       "      <td>19.553882</td>\n",
       "      <td>1.424647</td>\n",
       "    </tr>\n",
       "    <tr>\n",
       "      <th>32</th>\n",
       "      <td>N2_400mM</td>\n",
       "      <td>18.983571</td>\n",
       "      <td>0.598640</td>\n",
       "    </tr>\n",
       "    <tr>\n",
       "      <th>13</th>\n",
       "      <td>N2_400mM</td>\n",
       "      <td>18.317824</td>\n",
       "      <td>0.473199</td>\n",
       "    </tr>\n",
       "    <tr>\n",
       "      <th>14</th>\n",
       "      <td>N2_400mM</td>\n",
       "      <td>17.988831</td>\n",
       "      <td>0.456375</td>\n",
       "    </tr>\n",
       "    <tr>\n",
       "      <th>27</th>\n",
       "      <td>N2_400mM</td>\n",
       "      <td>17.065070</td>\n",
       "      <td>0.035041</td>\n",
       "    </tr>\n",
       "  </tbody>\n",
       "</table>\n",
       "</div>"
      ],
      "text/plain": [
       "   groupname      curve  curve_SE\n",
       "61  N2_400mM  30.294571  0.737792\n",
       "49  N2_400mM  27.348028  0.420538\n",
       "29  N2_400mM  22.786661  1.123987\n",
       "96  N2_400mM  21.646205  0.755274\n",
       "67  N2_400mM  20.506319  0.432525\n",
       "30  N2_400mM  20.418954  0.903061\n",
       "82  N2_400mM  20.380902  0.579628\n",
       "55  N2_400mM  20.175324  0.522992\n",
       "90  N2_400mM  20.026409  0.697018\n",
       "95  N2_400mM  19.689020  0.556422\n",
       "12  N2_400mM  19.553882  1.424647\n",
       "32  N2_400mM  18.983571  0.598640\n",
       "13  N2_400mM  18.317824  0.473199\n",
       "14  N2_400mM  17.988831  0.456375\n",
       "27  N2_400mM  17.065070  0.035041"
      ]
     },
     "execution_count": 112,
     "metadata": {},
     "output_type": "execute_result"
    }
   ],
   "source": [
    "# find the two outliers in 400mM\n",
    "df_400mM.loc[df_400mM['groupname']=='N2_400mM'].sort_values(by=['curve'], ascending=False)"
   ]
  },
  {
   "cell_type": "code",
   "execution_count": 113,
   "metadata": {},
   "outputs": [],
   "source": [
    "# get the index 61 and 49 out\n",
    "df.drop([61, 49],axis=0, inplace=True)"
   ]
  },
  {
   "cell_type": "code",
   "execution_count": 114,
   "metadata": {},
   "outputs": [
    {
     "data": {
      "text/html": [
       "<div>\n",
       "<style scoped>\n",
       "    .dataframe tbody tr th:only-of-type {\n",
       "        vertical-align: middle;\n",
       "    }\n",
       "\n",
       "    .dataframe tbody tr th {\n",
       "        vertical-align: top;\n",
       "    }\n",
       "\n",
       "    .dataframe thead tr th {\n",
       "        text-align: left;\n",
       "    }\n",
       "\n",
       "    .dataframe thead tr:last-of-type th {\n",
       "        text-align: right;\n",
       "    }\n",
       "</style>\n",
       "<table border=\"1\" class=\"dataframe\">\n",
       "  <thead>\n",
       "    <tr>\n",
       "      <th></th>\n",
       "      <th colspan=\"3\" halign=\"left\">curve</th>\n",
       "    </tr>\n",
       "    <tr>\n",
       "      <th></th>\n",
       "      <th>mean</th>\n",
       "      <th>sem</th>\n",
       "      <th>count</th>\n",
       "    </tr>\n",
       "    <tr>\n",
       "      <th>groupname</th>\n",
       "      <th></th>\n",
       "      <th></th>\n",
       "      <th></th>\n",
       "    </tr>\n",
       "  </thead>\n",
       "  <tbody>\n",
       "    <tr>\n",
       "      <th>N2</th>\n",
       "      <td>33.451397</td>\n",
       "      <td>0.440895</td>\n",
       "      <td>16</td>\n",
       "    </tr>\n",
       "    <tr>\n",
       "      <th>N2_100mM</th>\n",
       "      <td>29.546363</td>\n",
       "      <td>0.413260</td>\n",
       "      <td>15</td>\n",
       "    </tr>\n",
       "    <tr>\n",
       "      <th>N2_200mM</th>\n",
       "      <td>25.217900</td>\n",
       "      <td>0.500423</td>\n",
       "      <td>20</td>\n",
       "    </tr>\n",
       "    <tr>\n",
       "      <th>N2_300mM</th>\n",
       "      <td>22.180410</td>\n",
       "      <td>0.491802</td>\n",
       "      <td>15</td>\n",
       "    </tr>\n",
       "    <tr>\n",
       "      <th>N2_400mM</th>\n",
       "      <td>19.810690</td>\n",
       "      <td>0.419364</td>\n",
       "      <td>13</td>\n",
       "    </tr>\n",
       "    <tr>\n",
       "      <th>N2_500mM</th>\n",
       "      <td>19.166218</td>\n",
       "      <td>0.415679</td>\n",
       "      <td>16</td>\n",
       "    </tr>\n",
       "    <tr>\n",
       "      <th>N2_600mM</th>\n",
       "      <td>19.390700</td>\n",
       "      <td>0.425215</td>\n",
       "      <td>8</td>\n",
       "    </tr>\n",
       "  </tbody>\n",
       "</table>\n",
       "</div>"
      ],
      "text/plain": [
       "               curve                \n",
       "                mean       sem count\n",
       "groupname                           \n",
       "N2         33.451397  0.440895    16\n",
       "N2_100mM   29.546363  0.413260    15\n",
       "N2_200mM   25.217900  0.500423    20\n",
       "N2_300mM   22.180410  0.491802    15\n",
       "N2_400mM   19.810690  0.419364    13\n",
       "N2_500mM   19.166218  0.415679    16\n",
       "N2_600mM   19.390700  0.425215     8"
      ]
     },
     "metadata": {},
     "output_type": "display_data"
    }
   ],
   "source": [
    "# export descriptive csv for excel graphing\n",
    "df1 = df.groupby('groupname').aggregate({'curve':['mean','sem','count']})\n",
    "df1.to_csv(os.path.join(working_dir,'curve_desc_bygroup_Nplate_exclude_outlier.csv'))\n",
    "display(df1)\n",
    "del df1"
   ]
  },
  {
   "cell_type": "code",
   "execution_count": 115,
   "metadata": {},
   "outputs": [],
   "source": [
    "# transform to anova input - no need. already in the format"
   ]
  },
  {
   "cell_type": "code",
   "execution_count": 116,
   "metadata": {},
   "outputs": [
    {
     "data": {
      "text/html": [
       "<div>\n",
       "<style scoped>\n",
       "    .dataframe tbody tr th:only-of-type {\n",
       "        vertical-align: middle;\n",
       "    }\n",
       "\n",
       "    .dataframe tbody tr th {\n",
       "        vertical-align: top;\n",
       "    }\n",
       "\n",
       "    .dataframe thead th {\n",
       "        text-align: right;\n",
       "    }\n",
       "</style>\n",
       "<table border=\"1\" class=\"dataframe\">\n",
       "  <thead>\n",
       "    <tr style=\"text-align: right;\">\n",
       "      <th></th>\n",
       "      <th>df</th>\n",
       "      <th>sum_sq</th>\n",
       "      <th>mean_sq</th>\n",
       "      <th>F</th>\n",
       "      <th>PR(&gt;F)</th>\n",
       "    </tr>\n",
       "  </thead>\n",
       "  <tbody>\n",
       "    <tr>\n",
       "      <th>groupname</th>\n",
       "      <td>6.0</td>\n",
       "      <td>2703.693207</td>\n",
       "      <td>450.615535</td>\n",
       "      <td>140.679474</td>\n",
       "      <td>2.714985e-45</td>\n",
       "    </tr>\n",
       "    <tr>\n",
       "      <th>Residual</th>\n",
       "      <td>96.0</td>\n",
       "      <td>307.501088</td>\n",
       "      <td>3.203136</td>\n",
       "      <td>NaN</td>\n",
       "      <td>NaN</td>\n",
       "    </tr>\n",
       "  </tbody>\n",
       "</table>\n",
       "</div>"
      ],
      "text/plain": [
       "             df       sum_sq     mean_sq           F        PR(>F)\n",
       "groupname   6.0  2703.693207  450.615535  140.679474  2.714985e-45\n",
       "Residual   96.0   307.501088    3.203136         NaN           NaN"
      ]
     },
     "metadata": {},
     "output_type": "display_data"
    }
   ],
   "source": [
    "# run anova\n",
    "df_lm = ols('curve ~ groupname', data=df).fit()\n",
    "anovaT = anova_lm(df_lm)\n",
    "display(anovaT)"
   ]
  },
  {
   "cell_type": "code",
   "execution_count": 117,
   "metadata": {},
   "outputs": [],
   "source": [
    "# export anova table\n",
    "anovaT.to_csv(os.path.join(working_dir,'curve_desc_bygroup_Nplate_anovatable_dropoutlier.csv'))"
   ]
  },
  {
   "cell_type": "code",
   "execution_count": 118,
   "metadata": {},
   "outputs": [
    {
     "name": "stdout",
     "output_type": "stream",
     "text": [
      "F(6) = 140.679, p < 0.001\n"
     ]
    }
   ],
   "source": [
    "# get anova written report format\n",
    "anova_apa = report_stats_apa('F',\n",
    "                             anovaT.loc['groupname','df'],\n",
    "                             anovaT.loc['groupname','F'],\n",
    "                             anovaT.loc['groupname','PR(>F)'],\n",
    "                             pvlimit,\n",
    "                             alpha)\n",
    "anova_apa"
   ]
  },
  {
   "cell_type": "code",
   "execution_count": 119,
   "metadata": {},
   "outputs": [
    {
     "data": {
      "text/html": [
       "<table class=\"simpletable\">\n",
       "<caption>Multiple Comparison of Means - Tukey HSD, FWER=0.05</caption>\n",
       "<tr>\n",
       "   <th>group1</th>   <th>group2</th>  <th>meandiff</th>  <th>p-adj</th>   <th>lower</th>    <th>upper</th>  <th>reject</th>\n",
       "</tr>\n",
       "<tr>\n",
       "     <td>N2</td>    <td>N2_100mM</td>  <td>-3.905</td>   <td>0.001</td>  <td>-5.8422</td>  <td>-1.9679</td>  <td>True</td> \n",
       "</tr>\n",
       "<tr>\n",
       "     <td>N2</td>    <td>N2_200mM</td>  <td>-8.2335</td>  <td>0.001</td> <td>-10.0414</td>  <td>-6.4256</td>  <td>True</td> \n",
       "</tr>\n",
       "<tr>\n",
       "     <td>N2</td>    <td>N2_300mM</td>  <td>-11.271</td>  <td>0.001</td> <td>-13.2082</td>  <td>-9.3338</td>  <td>True</td> \n",
       "</tr>\n",
       "<tr>\n",
       "     <td>N2</td>    <td>N2_400mM</td> <td>-13.6407</td>  <td>0.001</td> <td>-15.6533</td> <td>-11.6281</td>  <td>True</td> \n",
       "</tr>\n",
       "<tr>\n",
       "     <td>N2</td>    <td>N2_500mM</td> <td>-14.2852</td>  <td>0.001</td> <td>-16.1909</td> <td>-12.3795</td>  <td>True</td> \n",
       "</tr>\n",
       "<tr>\n",
       "     <td>N2</td>    <td>N2_600mM</td> <td>-14.0607</td>  <td>0.001</td> <td>-16.3947</td> <td>-11.7267</td>  <td>True</td> \n",
       "</tr>\n",
       "<tr>\n",
       "  <td>N2_100mM</td> <td>N2_200mM</td>  <td>-4.3285</td>  <td>0.001</td>  <td>-6.1695</td>  <td>-2.4874</td>  <td>True</td> \n",
       "</tr>\n",
       "<tr>\n",
       "  <td>N2_100mM</td> <td>N2_300mM</td>  <td>-7.366</td>   <td>0.001</td>  <td>-9.3341</td>  <td>-5.3978</td>  <td>True</td> \n",
       "</tr>\n",
       "<tr>\n",
       "  <td>N2_100mM</td> <td>N2_400mM</td>  <td>-9.7357</td>  <td>0.001</td> <td>-11.7781</td>  <td>-7.6932</td>  <td>True</td> \n",
       "</tr>\n",
       "<tr>\n",
       "  <td>N2_100mM</td> <td>N2_500mM</td> <td>-10.3801</td>  <td>0.001</td> <td>-12.3173</td>  <td>-8.443</td>   <td>True</td> \n",
       "</tr>\n",
       "<tr>\n",
       "  <td>N2_100mM</td> <td>N2_600mM</td> <td>-10.1557</td>  <td>0.001</td> <td>-12.5154</td>  <td>-7.7959</td>  <td>True</td> \n",
       "</tr>\n",
       "<tr>\n",
       "  <td>N2_200mM</td> <td>N2_300mM</td>  <td>-3.0375</td>  <td>0.001</td>  <td>-4.8785</td>  <td>-1.1964</td>  <td>True</td> \n",
       "</tr>\n",
       "<tr>\n",
       "  <td>N2_200mM</td> <td>N2_400mM</td>  <td>-5.4072</td>  <td>0.001</td>  <td>-7.3275</td>  <td>-3.4869</td>  <td>True</td> \n",
       "</tr>\n",
       "<tr>\n",
       "  <td>N2_200mM</td> <td>N2_500mM</td>  <td>-6.0517</td>  <td>0.001</td>  <td>-7.8596</td>  <td>-4.2438</td>  <td>True</td> \n",
       "</tr>\n",
       "<tr>\n",
       "  <td>N2_200mM</td> <td>N2_600mM</td>  <td>-5.8272</td>  <td>0.001</td>  <td>-8.082</td>   <td>-3.5724</td>  <td>True</td> \n",
       "</tr>\n",
       "<tr>\n",
       "  <td>N2_300mM</td> <td>N2_400mM</td>  <td>-2.3697</td> <td>0.0124</td>  <td>-4.4122</td>  <td>-0.3272</td>  <td>True</td> \n",
       "</tr>\n",
       "<tr>\n",
       "  <td>N2_300mM</td> <td>N2_500mM</td>  <td>-3.0142</td>  <td>0.001</td>  <td>-4.9514</td>  <td>-1.077</td>   <td>True</td> \n",
       "</tr>\n",
       "<tr>\n",
       "  <td>N2_300mM</td> <td>N2_600mM</td>  <td>-2.7897</td>  <td>0.01</td>   <td>-5.1495</td>   <td>-0.43</td>   <td>True</td> \n",
       "</tr>\n",
       "<tr>\n",
       "  <td>N2_400mM</td> <td>N2_500mM</td>  <td>-0.6445</td>   <td>0.9</td>   <td>-2.6571</td>  <td>1.3681</td>   <td>False</td>\n",
       "</tr>\n",
       "<tr>\n",
       "  <td>N2_400mM</td> <td>N2_600mM</td>   <td>-0.42</td>    <td>0.9</td>   <td>-2.8421</td>  <td>2.0021</td>   <td>False</td>\n",
       "</tr>\n",
       "<tr>\n",
       "  <td>N2_500mM</td> <td>N2_600mM</td>  <td>0.2245</td>    <td>0.9</td>   <td>-2.1095</td>  <td>2.5584</td>   <td>False</td>\n",
       "</tr>\n",
       "</table>"
      ],
      "text/plain": [
       "<class 'statsmodels.iolib.table.SimpleTable'>"
      ]
     },
     "execution_count": 119,
     "metadata": {},
     "output_type": "execute_result"
    }
   ],
   "source": [
    "# run posthoc\n",
    "tukey = multicomp.pairwise_tukeyhsd(df['curve'], df['groupname']).summary()\n",
    "tukey"
   ]
  },
  {
   "cell_type": "code",
   "execution_count": 120,
   "metadata": {},
   "outputs": [],
   "source": [
    "# put in table\n",
    "tukey_df = convert_statsmodel_table2dataframe(tukey)\n",
    "tukey_df.to_csv(os.path.join(working_dir,'curve_desc_bygroup_Nplate_tukeytable_dropoutlier.csv'))"
   ]
  },
  {
   "cell_type": "code",
   "execution_count": 121,
   "metadata": {},
   "outputs": [
    {
     "data": {
      "text/html": [
       "<div>\n",
       "<style scoped>\n",
       "    .dataframe tbody tr th:only-of-type {\n",
       "        vertical-align: middle;\n",
       "    }\n",
       "\n",
       "    .dataframe tbody tr th {\n",
       "        vertical-align: top;\n",
       "    }\n",
       "\n",
       "    .dataframe thead th {\n",
       "        text-align: right;\n",
       "    }\n",
       "</style>\n",
       "<table border=\"1\" class=\"dataframe\">\n",
       "  <thead>\n",
       "    <tr style=\"text-align: right;\">\n",
       "      <th>group2</th>\n",
       "      <th>N2_100mM</th>\n",
       "      <th>N2_200mM</th>\n",
       "      <th>N2_300mM</th>\n",
       "      <th>N2_400mM</th>\n",
       "      <th>N2_500mM</th>\n",
       "      <th>N2_600mM</th>\n",
       "    </tr>\n",
       "    <tr>\n",
       "      <th>group1</th>\n",
       "      <th></th>\n",
       "      <th></th>\n",
       "      <th></th>\n",
       "      <th></th>\n",
       "      <th></th>\n",
       "      <th></th>\n",
       "    </tr>\n",
       "  </thead>\n",
       "  <tbody>\n",
       "    <tr>\n",
       "      <th>N2</th>\n",
       "      <td>0.001</td>\n",
       "      <td>0.001</td>\n",
       "      <td>0.001</td>\n",
       "      <td>0.0010</td>\n",
       "      <td>0.001</td>\n",
       "      <td>0.001</td>\n",
       "    </tr>\n",
       "    <tr>\n",
       "      <th>N2_100mM</th>\n",
       "      <td>NaN</td>\n",
       "      <td>0.001</td>\n",
       "      <td>0.001</td>\n",
       "      <td>0.0010</td>\n",
       "      <td>0.001</td>\n",
       "      <td>0.001</td>\n",
       "    </tr>\n",
       "    <tr>\n",
       "      <th>N2_200mM</th>\n",
       "      <td>NaN</td>\n",
       "      <td>NaN</td>\n",
       "      <td>0.001</td>\n",
       "      <td>0.0010</td>\n",
       "      <td>0.001</td>\n",
       "      <td>0.001</td>\n",
       "    </tr>\n",
       "    <tr>\n",
       "      <th>N2_300mM</th>\n",
       "      <td>NaN</td>\n",
       "      <td>NaN</td>\n",
       "      <td>NaN</td>\n",
       "      <td>0.0124</td>\n",
       "      <td>0.001</td>\n",
       "      <td>0.010</td>\n",
       "    </tr>\n",
       "    <tr>\n",
       "      <th>N2_400mM</th>\n",
       "      <td>NaN</td>\n",
       "      <td>NaN</td>\n",
       "      <td>NaN</td>\n",
       "      <td>NaN</td>\n",
       "      <td>0.900</td>\n",
       "      <td>0.900</td>\n",
       "    </tr>\n",
       "    <tr>\n",
       "      <th>N2_500mM</th>\n",
       "      <td>NaN</td>\n",
       "      <td>NaN</td>\n",
       "      <td>NaN</td>\n",
       "      <td>NaN</td>\n",
       "      <td>NaN</td>\n",
       "      <td>0.900</td>\n",
       "    </tr>\n",
       "  </tbody>\n",
       "</table>\n",
       "</div>"
      ],
      "text/plain": [
       "group2    N2_100mM  N2_200mM  N2_300mM  N2_400mM  N2_500mM  N2_600mM\n",
       "group1                                                              \n",
       "N2           0.001     0.001     0.001    0.0010     0.001     0.001\n",
       "N2_100mM       NaN     0.001     0.001    0.0010     0.001     0.001\n",
       "N2_200mM       NaN       NaN     0.001    0.0010     0.001     0.001\n",
       "N2_300mM       NaN       NaN       NaN    0.0124     0.001     0.010\n",
       "N2_400mM       NaN       NaN       NaN       NaN     0.900     0.900\n",
       "N2_500mM       NaN       NaN       NaN       NaN       NaN     0.900"
      ]
     },
     "execution_count": 121,
     "metadata": {},
     "output_type": "execute_result"
    }
   ],
   "source": [
    "# visualize differences between groups\n",
    "# transform to seaborn heatmap input\n",
    "tukey_df_pvalue_pivot = tukey_df.pivot(index='group1',columns='group2',values='p-adj')\n",
    "tukey_df_pvalue_pivot"
   ]
  },
  {
   "cell_type": "code",
   "execution_count": 122,
   "metadata": {},
   "outputs": [
    {
     "data": {
      "text/html": [
       "<div>\n",
       "<style scoped>\n",
       "    .dataframe tbody tr th:only-of-type {\n",
       "        vertical-align: middle;\n",
       "    }\n",
       "\n",
       "    .dataframe tbody tr th {\n",
       "        vertical-align: top;\n",
       "    }\n",
       "\n",
       "    .dataframe thead th {\n",
       "        text-align: right;\n",
       "    }\n",
       "</style>\n",
       "<table border=\"1\" class=\"dataframe\">\n",
       "  <thead>\n",
       "    <tr style=\"text-align: right;\">\n",
       "      <th>group2</th>\n",
       "      <th>N2_100mM</th>\n",
       "      <th>N2_200mM</th>\n",
       "      <th>N2_300mM</th>\n",
       "      <th>N2_400mM</th>\n",
       "      <th>N2_500mM</th>\n",
       "      <th>N2_600mM</th>\n",
       "    </tr>\n",
       "    <tr>\n",
       "      <th>group1</th>\n",
       "      <th></th>\n",
       "      <th></th>\n",
       "      <th></th>\n",
       "      <th></th>\n",
       "      <th></th>\n",
       "      <th></th>\n",
       "    </tr>\n",
       "  </thead>\n",
       "  <tbody>\n",
       "    <tr>\n",
       "      <th>N2</th>\n",
       "      <td>0.001</td>\n",
       "      <td>0.001</td>\n",
       "      <td>0.001</td>\n",
       "      <td>0.0010</td>\n",
       "      <td>0.001</td>\n",
       "      <td>0.001</td>\n",
       "    </tr>\n",
       "    <tr>\n",
       "      <th>N2_100mM</th>\n",
       "      <td>NaN</td>\n",
       "      <td>0.001</td>\n",
       "      <td>0.001</td>\n",
       "      <td>0.0010</td>\n",
       "      <td>0.001</td>\n",
       "      <td>0.001</td>\n",
       "    </tr>\n",
       "    <tr>\n",
       "      <th>N2_200mM</th>\n",
       "      <td>NaN</td>\n",
       "      <td>NaN</td>\n",
       "      <td>0.001</td>\n",
       "      <td>0.0010</td>\n",
       "      <td>0.001</td>\n",
       "      <td>0.001</td>\n",
       "    </tr>\n",
       "    <tr>\n",
       "      <th>N2_300mM</th>\n",
       "      <td>NaN</td>\n",
       "      <td>NaN</td>\n",
       "      <td>NaN</td>\n",
       "      <td>0.0124</td>\n",
       "      <td>0.001</td>\n",
       "      <td>0.010</td>\n",
       "    </tr>\n",
       "    <tr>\n",
       "      <th>N2_400mM</th>\n",
       "      <td>NaN</td>\n",
       "      <td>NaN</td>\n",
       "      <td>NaN</td>\n",
       "      <td>NaN</td>\n",
       "      <td>NaN</td>\n",
       "      <td>NaN</td>\n",
       "    </tr>\n",
       "    <tr>\n",
       "      <th>N2_500mM</th>\n",
       "      <td>NaN</td>\n",
       "      <td>NaN</td>\n",
       "      <td>NaN</td>\n",
       "      <td>NaN</td>\n",
       "      <td>NaN</td>\n",
       "      <td>NaN</td>\n",
       "    </tr>\n",
       "  </tbody>\n",
       "</table>\n",
       "</div>"
      ],
      "text/plain": [
       "group2    N2_100mM  N2_200mM  N2_300mM  N2_400mM  N2_500mM  N2_600mM\n",
       "group1                                                              \n",
       "N2           0.001     0.001     0.001    0.0010     0.001     0.001\n",
       "N2_100mM       NaN     0.001     0.001    0.0010     0.001     0.001\n",
       "N2_200mM       NaN       NaN     0.001    0.0010     0.001     0.001\n",
       "N2_300mM       NaN       NaN       NaN    0.0124     0.001     0.010\n",
       "N2_400mM       NaN       NaN       NaN       NaN       NaN       NaN\n",
       "N2_500mM       NaN       NaN       NaN       NaN       NaN       NaN"
      ]
     },
     "execution_count": 122,
     "metadata": {},
     "output_type": "execute_result"
    }
   ],
   "source": [
    "# mute n.s.\n",
    "tukey_df_graphing = tukey_df_pvalue_pivot.mask(tukey_df_pvalue_pivot > alpha)\n",
    "tukey_df_graphing"
   ]
  },
  {
   "cell_type": "code",
   "execution_count": 123,
   "metadata": {},
   "outputs": [
    {
     "data": {
      "image/png": "[encoded data removed]",
      "text/plain": [
       "<Figure size 360x432 with 2 Axes>"
      ]
     },
     "metadata": {
      "needs_background": "light"
     },
     "output_type": "display_data"
    }
   ],
   "source": [
    "# visualize\n",
    "plt.figure(figsize=(5,6))\n",
    "cmap = sns.color_palette(\"Reds_r\", 50)\n",
    "sns.heatmap(tukey_df_graphing,cmap=cmap,square=True,linewidth=0.2,vmin=pvlimit,vmax=alpha)\n",
    "plt.savefig(os.path.join(working_dir,'curve_desc_bygroup_Nplate_tukeytable_dropoutlier.jpeg'))"
   ]
  },
  {
   "cell_type": "code",
   "execution_count": 125,
   "metadata": {},
   "outputs": [
    {
     "data": {
      "text/plain": [
       "<matplotlib.axes._subplots.AxesSubplot at 0x1a1cd9b650>"
      ]
     },
     "execution_count": 125,
     "metadata": {},
     "output_type": "execute_result"
    },
    {
     "data": {
      "image/png": "[encoded data removed]",
      "text/plain": [
       "<Figure size 432x288 with 1 Axes>"
      ]
     },
     "metadata": {
      "needs_background": "light"
     },
     "output_type": "display_data"
    }
   ],
   "source": [
    "# bar chart\n",
    "sns.boxplot(x='groupname',y='curve',data=df)"
   ]
  },
  {
   "cell_type": "code",
   "execution_count": null,
   "metadata": {},
   "outputs": [],
   "source": []
  }
 ],
 "metadata": {
  "kernelspec": {
   "display_name": "Python 3",
   "language": "python",
   "name": "python3"
  },
  "language_info": {
   "codemirror_mode": {
    "name": "ipython",
    "version": 3
   },
   "file_extension": ".py",
   "mimetype": "text/x-python",
   "name": "python",
   "nbconvert_exporter": "python",
   "pygments_lexer": "ipython3",
   "version": "3.7.7"
  }
 },
 "nbformat": 4,
 "nbformat_minor": 4
}
