{
 "cells": [
  {
   "cell_type": "markdown",
   "metadata": {},
   "source": [
    "# Body curve ANOVA and posthoc by plate\n",
    "Conny Lin | May 3, 2020 | updated: May 9, 2020"
   ]
  },
  {
   "cell_type": "code",
   "execution_count": 35,
   "metadata": {},
   "outputs": [],
   "source": [
    "# - plan - \n",
    "# get csv by plate\n",
    "# export descriptive csv for excel graphing\n",
    "# transform to anova input\n",
    "# run anova\n",
    "# run posthoc\n",
    "# put in table\n",
    "# visualize differences between groups"
   ]
  },
  {
   "cell_type": "code",
   "execution_count": 36,
   "metadata": {},
   "outputs": [],
   "source": [
    "# import library\n",
    "# import libraries\n",
    "import os\n",
    "import re as re\n",
    "from collections import Counter\n",
    "\n",
    "import numpy as np\n",
    "import pandas as pd\n",
    "\n",
    "import matplotlib.pyplot as plt\n",
    "%matplotlib inline\n",
    "import seaborn as sns\n",
    "\n",
    "from scipy import stats\n",
    "from scipy.stats import norm #used for plotting\n",
    "import statsmodels.api as sm\n",
    "from statsmodels.formula.api import ols\n",
    "from statsmodels.stats.anova import AnovaRM\n",
    "from statsmodels.stats.anova import anova_lm\n",
    "from statsmodels.stats import multicomp\n",
    "from statsmodels.stats.outliers_influence import variance_inflation_factor"
   ]
  },
  {
   "cell_type": "code",
   "execution_count": 37,
   "metadata": {},
   "outputs": [],
   "source": [
    "# functions\n",
    "def report_stats_apa(stattype,dfreedom,testresult,pvalue,plimit=0.001,alpha=0.05):\n",
    "    if pvalue<plimit:\n",
    "        stat_report_str = print(f'{stattype}({dfreedom:.0f}) = {testresult:.3f}, p < {plimit}')\n",
    "    elif p>alpha:\n",
    "        stat_report_str = print(f'{stattype}({dfreedom:.0f}) = {testresult:.3f}, p = n.s.')\n",
    "    else:\n",
    "        stat_report_str = print(f'{stattype}({dfreedom:.0f}) = {testresult:.3f}, p = {pvalue:.3f}')\n",
    "    return stat_report_str"
   ]
  },
  {
   "cell_type": "code",
   "execution_count": 38,
   "metadata": {},
   "outputs": [],
   "source": [
    "def convert_statsmodel_table2dataframe(statsmodel_object):\n",
    "    column_names = statsmodel_object.data[0]\n",
    "    d = statsmodel_object.data[1:]\n",
    "    statsmodel_object_dataframe = pd.DataFrame(d,columns=column_names)\n",
    "    return statsmodel_object_dataframe"
   ]
  },
  {
   "cell_type": "markdown",
   "metadata": {},
   "source": [
    "## work"
   ]
  },
  {
   "cell_type": "code",
   "execution_count": 39,
   "metadata": {},
   "outputs": [],
   "source": [
    "# set working dir\n",
    "working_dir = '/Users/connylin/Dropbox/CA/CA Publications/Manuscript RL Alcohol hab model slo1/3-Results/Fig1 WT speed and curve before training dose/basal_response_by_exp_20200418/'"
   ]
  },
  {
   "cell_type": "code",
   "execution_count": 40,
   "metadata": {},
   "outputs": [],
   "source": [
    "# global variable\n",
    "alpha = 0.05\n",
    "pvlimit = 0.001"
   ]
  },
  {
   "cell_type": "code",
   "execution_count": 41,
   "metadata": {},
   "outputs": [
    {
     "data": {
      "text/html": [
       "<div>\n",
       "<style scoped>\n",
       "    .dataframe tbody tr th:only-of-type {\n",
       "        vertical-align: middle;\n",
       "    }\n",
       "\n",
       "    .dataframe tbody tr th {\n",
       "        vertical-align: top;\n",
       "    }\n",
       "\n",
       "    .dataframe thead th {\n",
       "        text-align: right;\n",
       "    }\n",
       "</style>\n",
       "<table border=\"1\" class=\"dataframe\">\n",
       "  <thead>\n",
       "    <tr style=\"text-align: right;\">\n",
       "      <th></th>\n",
       "      <th>expyear</th>\n",
       "      <th>expname</th>\n",
       "      <th>groupname</th>\n",
       "      <th>mwtname</th>\n",
       "      <th>wormN</th>\n",
       "      <th>speed</th>\n",
       "      <th>speed_SE</th>\n",
       "      <th>curve</th>\n",
       "      <th>curve_SE</th>\n",
       "    </tr>\n",
       "  </thead>\n",
       "  <tbody>\n",
       "    <tr>\n",
       "      <th>0</th>\n",
       "      <td>2012</td>\n",
       "      <td>20120213C_FP_100s30x10s10s_DoseDependency</td>\n",
       "      <td>N2_100mM</td>\n",
       "      <td>20120213_154120</td>\n",
       "      <td>9</td>\n",
       "      <td>0.307969</td>\n",
       "      <td>0.019229</td>\n",
       "      <td>26.808175</td>\n",
       "      <td>0.615400</td>\n",
       "    </tr>\n",
       "    <tr>\n",
       "      <th>1</th>\n",
       "      <td>2012</td>\n",
       "      <td>20120213C_FP_100s30x10s10s_DoseDependency</td>\n",
       "      <td>N2_100mM</td>\n",
       "      <td>20120213_155059</td>\n",
       "      <td>15</td>\n",
       "      <td>0.264298</td>\n",
       "      <td>0.016657</td>\n",
       "      <td>31.725721</td>\n",
       "      <td>0.972318</td>\n",
       "    </tr>\n",
       "    <tr>\n",
       "      <th>2</th>\n",
       "      <td>2012</td>\n",
       "      <td>20120213C_FP_100s30x10s10s_DoseDependency</td>\n",
       "      <td>N2_100mM</td>\n",
       "      <td>20120213_155939</td>\n",
       "      <td>24</td>\n",
       "      <td>0.285712</td>\n",
       "      <td>0.013011</td>\n",
       "      <td>30.255534</td>\n",
       "      <td>0.387169</td>\n",
       "    </tr>\n",
       "    <tr>\n",
       "      <th>3</th>\n",
       "      <td>2012</td>\n",
       "      <td>20120213C_FP_100s30x10s10s_DoseDependency</td>\n",
       "      <td>N2_100mM</td>\n",
       "      <td>20120213_161324</td>\n",
       "      <td>25</td>\n",
       "      <td>0.362677</td>\n",
       "      <td>0.015299</td>\n",
       "      <td>29.494326</td>\n",
       "      <td>0.535562</td>\n",
       "    </tr>\n",
       "    <tr>\n",
       "      <th>4</th>\n",
       "      <td>2012</td>\n",
       "      <td>20120213C_FP_100s30x10s10s_DoseDependency</td>\n",
       "      <td>N2_200mM</td>\n",
       "      <td>20120213_162924</td>\n",
       "      <td>26</td>\n",
       "      <td>0.299793</td>\n",
       "      <td>0.015675</td>\n",
       "      <td>24.495509</td>\n",
       "      <td>0.705827</td>\n",
       "    </tr>\n",
       "  </tbody>\n",
       "</table>\n",
       "</div>"
      ],
      "text/plain": [
       "   expyear                                    expname groupname  \\\n",
       "0     2012  20120213C_FP_100s30x10s10s_DoseDependency  N2_100mM   \n",
       "1     2012  20120213C_FP_100s30x10s10s_DoseDependency  N2_100mM   \n",
       "2     2012  20120213C_FP_100s30x10s10s_DoseDependency  N2_100mM   \n",
       "3     2012  20120213C_FP_100s30x10s10s_DoseDependency  N2_100mM   \n",
       "4     2012  20120213C_FP_100s30x10s10s_DoseDependency  N2_200mM   \n",
       "\n",
       "           mwtname  wormN     speed  speed_SE      curve  curve_SE  \n",
       "0  20120213_154120      9  0.307969  0.019229  26.808175  0.615400  \n",
       "1  20120213_155059     15  0.264298  0.016657  31.725721  0.972318  \n",
       "2  20120213_155939     24  0.285712  0.013011  30.255534  0.387169  \n",
       "3  20120213_161324     25  0.362677  0.015299  29.494326  0.535562  \n",
       "4  20120213_162924     26  0.299793  0.015675  24.495509  0.705827  "
      ]
     },
     "execution_count": 41,
     "metadata": {},
     "output_type": "execute_result"
    }
   ],
   "source": [
    "# get csv by plate\n",
    "p = os.path.join(working_dir, 'desc_stats_by_plate.csv')\n",
    "df = pd.read_csv(p)\n",
    "df.head()"
   ]
  },
  {
   "cell_type": "code",
   "execution_count": 42,
   "metadata": {},
   "outputs": [
    {
     "data": {
      "text/html": [
       "<div>\n",
       "<style scoped>\n",
       "    .dataframe tbody tr th:only-of-type {\n",
       "        vertical-align: middle;\n",
       "    }\n",
       "\n",
       "    .dataframe tbody tr th {\n",
       "        vertical-align: top;\n",
       "    }\n",
       "\n",
       "    .dataframe thead tr th {\n",
       "        text-align: left;\n",
       "    }\n",
       "\n",
       "    .dataframe thead tr:last-of-type th {\n",
       "        text-align: right;\n",
       "    }\n",
       "</style>\n",
       "<table border=\"1\" class=\"dataframe\">\n",
       "  <thead>\n",
       "    <tr>\n",
       "      <th></th>\n",
       "      <th colspan=\"3\" halign=\"left\">curve</th>\n",
       "    </tr>\n",
       "    <tr>\n",
       "      <th></th>\n",
       "      <th>mean</th>\n",
       "      <th>sem</th>\n",
       "      <th>count</th>\n",
       "    </tr>\n",
       "    <tr>\n",
       "      <th>groupname</th>\n",
       "      <th></th>\n",
       "      <th></th>\n",
       "      <th></th>\n",
       "    </tr>\n",
       "  </thead>\n",
       "  <tbody>\n",
       "    <tr>\n",
       "      <th>N2</th>\n",
       "      <td>33.451397</td>\n",
       "      <td>0.440895</td>\n",
       "      <td>16</td>\n",
       "    </tr>\n",
       "    <tr>\n",
       "      <th>N2_100mM</th>\n",
       "      <td>29.546363</td>\n",
       "      <td>0.413260</td>\n",
       "      <td>15</td>\n",
       "    </tr>\n",
       "    <tr>\n",
       "      <th>N2_200mM</th>\n",
       "      <td>25.217900</td>\n",
       "      <td>0.500423</td>\n",
       "      <td>20</td>\n",
       "    </tr>\n",
       "    <tr>\n",
       "      <th>N2_300mM</th>\n",
       "      <td>22.180410</td>\n",
       "      <td>0.491802</td>\n",
       "      <td>15</td>\n",
       "    </tr>\n",
       "    <tr>\n",
       "      <th>N2_400mM</th>\n",
       "      <td>21.012105</td>\n",
       "      <td>0.906346</td>\n",
       "      <td>15</td>\n",
       "    </tr>\n",
       "    <tr>\n",
       "      <th>N2_500mM</th>\n",
       "      <td>19.166218</td>\n",
       "      <td>0.415679</td>\n",
       "      <td>16</td>\n",
       "    </tr>\n",
       "    <tr>\n",
       "      <th>N2_600mM</th>\n",
       "      <td>19.390700</td>\n",
       "      <td>0.425215</td>\n",
       "      <td>8</td>\n",
       "    </tr>\n",
       "  </tbody>\n",
       "</table>\n",
       "</div>"
      ],
      "text/plain": [
       "               curve                \n",
       "                mean       sem count\n",
       "groupname                           \n",
       "N2         33.451397  0.440895    16\n",
       "N2_100mM   29.546363  0.413260    15\n",
       "N2_200mM   25.217900  0.500423    20\n",
       "N2_300mM   22.180410  0.491802    15\n",
       "N2_400mM   21.012105  0.906346    15\n",
       "N2_500mM   19.166218  0.415679    16\n",
       "N2_600mM   19.390700  0.425215     8"
      ]
     },
     "metadata": {},
     "output_type": "display_data"
    }
   ],
   "source": [
    "# export descriptive csv for excel graphing\n",
    "df1 = df.groupby('groupname').aggregate({'curve':['mean','sem','count']})\n",
    "df1.to_csv(os.path.join(working_dir,'curve_desc_bygroup_Nplate.csv'))\n",
    "display(df1)\n",
    "del df1"
   ]
  },
  {
   "cell_type": "code",
   "execution_count": 43,
   "metadata": {},
   "outputs": [],
   "source": [
    "# transform to anova input - no need. already in the format"
   ]
  },
  {
   "cell_type": "code",
   "execution_count": 44,
   "metadata": {},
   "outputs": [
    {
     "data": {
      "text/html": [
       "<div>\n",
       "<style scoped>\n",
       "    .dataframe tbody tr th:only-of-type {\n",
       "        vertical-align: middle;\n",
       "    }\n",
       "\n",
       "    .dataframe tbody tr th {\n",
       "        vertical-align: top;\n",
       "    }\n",
       "\n",
       "    .dataframe thead th {\n",
       "        text-align: right;\n",
       "    }\n",
       "</style>\n",
       "<table border=\"1\" class=\"dataframe\">\n",
       "  <thead>\n",
       "    <tr style=\"text-align: right;\">\n",
       "      <th></th>\n",
       "      <th>df</th>\n",
       "      <th>sum_sq</th>\n",
       "      <th>mean_sq</th>\n",
       "      <th>F</th>\n",
       "      <th>PR(&gt;F)</th>\n",
       "    </tr>\n",
       "  </thead>\n",
       "  <tbody>\n",
       "    <tr>\n",
       "      <th>groupname</th>\n",
       "      <td>6.0</td>\n",
       "      <td>2597.760324</td>\n",
       "      <td>432.960054</td>\n",
       "      <td>93.752948</td>\n",
       "      <td>2.316218e-38</td>\n",
       "    </tr>\n",
       "    <tr>\n",
       "      <th>Residual</th>\n",
       "      <td>98.0</td>\n",
       "      <td>452.573345</td>\n",
       "      <td>4.618095</td>\n",
       "      <td>NaN</td>\n",
       "      <td>NaN</td>\n",
       "    </tr>\n",
       "  </tbody>\n",
       "</table>\n",
       "</div>"
      ],
      "text/plain": [
       "             df       sum_sq     mean_sq          F        PR(>F)\n",
       "groupname   6.0  2597.760324  432.960054  93.752948  2.316218e-38\n",
       "Residual   98.0   452.573345    4.618095        NaN           NaN"
      ]
     },
     "metadata": {},
     "output_type": "display_data"
    }
   ],
   "source": [
    "# run anova\n",
    "df_lm = ols('curve ~ groupname', data=df).fit()\n",
    "anovaT = anova_lm(df_lm)\n",
    "display(anovaT)"
   ]
  },
  {
   "cell_type": "code",
   "execution_count": 45,
   "metadata": {},
   "outputs": [],
   "source": [
    "# export anova table\n",
    "anovaT.to_csv(os.path.join(working_dir,'curve_desc_bygroup_Nplate_anovatable.csv'))"
   ]
  },
  {
   "cell_type": "code",
   "execution_count": 46,
   "metadata": {},
   "outputs": [
    {
     "name": "stdout",
     "output_type": "stream",
     "text": [
      "F(6) = 93.753, p < 0.001\n"
     ]
    }
   ],
   "source": [
    "# get anova written report format\n",
    "anova_apa = report_stats_apa('F',\n",
    "                             anovaT.loc['groupname','df'],\n",
    "                             anovaT.loc['groupname','F'],\n",
    "                             anovaT.loc['groupname','PR(>F)'],\n",
    "                             pvlimit,\n",
    "                             alpha)\n",
    "anova_apa"
   ]
  },
  {
   "cell_type": "code",
   "execution_count": 47,
   "metadata": {},
   "outputs": [
    {
     "data": {
      "text/html": [
       "<table class=\"simpletable\">\n",
       "<caption>Multiple Comparison of Means - Tukey HSD, FWER=0.05</caption>\n",
       "<tr>\n",
       "   <th>group1</th>   <th>group2</th>  <th>meandiff</th>  <th>p-adj</th>   <th>lower</th>    <th>upper</th>  <th>reject</th>\n",
       "</tr>\n",
       "<tr>\n",
       "     <td>N2</td>    <td>N2_100mM</td>  <td>-3.905</td>   <td>0.001</td>   <td>-6.23</td>    <td>-1.58</td>   <td>True</td> \n",
       "</tr>\n",
       "<tr>\n",
       "     <td>N2</td>    <td>N2_200mM</td>  <td>-8.2335</td>  <td>0.001</td> <td>-10.4033</td>  <td>-6.0637</td>  <td>True</td> \n",
       "</tr>\n",
       "<tr>\n",
       "     <td>N2</td>    <td>N2_300mM</td>  <td>-11.271</td>  <td>0.001</td>  <td>-13.596</td>  <td>-8.946</td>   <td>True</td> \n",
       "</tr>\n",
       "<tr>\n",
       "     <td>N2</td>    <td>N2_400mM</td> <td>-12.4393</td>  <td>0.001</td> <td>-14.7643</td> <td>-10.1143</td>  <td>True</td> \n",
       "</tr>\n",
       "<tr>\n",
       "     <td>N2</td>    <td>N2_500mM</td> <td>-14.2852</td>  <td>0.001</td> <td>-16.5724</td>  <td>-11.998</td>  <td>True</td> \n",
       "</tr>\n",
       "<tr>\n",
       "     <td>N2</td>    <td>N2_600mM</td> <td>-14.0607</td>  <td>0.001</td> <td>-16.8619</td> <td>-11.2595</td>  <td>True</td> \n",
       "</tr>\n",
       "<tr>\n",
       "  <td>N2_100mM</td> <td>N2_200mM</td>  <td>-4.3285</td>  <td>0.001</td>  <td>-6.5381</td>  <td>-2.1188</td>  <td>True</td> \n",
       "</tr>\n",
       "<tr>\n",
       "  <td>N2_100mM</td> <td>N2_300mM</td>  <td>-7.366</td>   <td>0.001</td>  <td>-9.7282</td>  <td>-5.0037</td>  <td>True</td> \n",
       "</tr>\n",
       "<tr>\n",
       "  <td>N2_100mM</td> <td>N2_400mM</td>  <td>-8.5343</td>  <td>0.001</td> <td>-10.8965</td>  <td>-6.172</td>   <td>True</td> \n",
       "</tr>\n",
       "<tr>\n",
       "  <td>N2_100mM</td> <td>N2_500mM</td> <td>-10.3801</td>  <td>0.001</td> <td>-12.7052</td>  <td>-8.0551</td>  <td>True</td> \n",
       "</tr>\n",
       "<tr>\n",
       "  <td>N2_100mM</td> <td>N2_600mM</td> <td>-10.1557</td>  <td>0.001</td> <td>-12.9879</td>  <td>-7.3235</td>  <td>True</td> \n",
       "</tr>\n",
       "<tr>\n",
       "  <td>N2_200mM</td> <td>N2_300mM</td>  <td>-3.0375</td> <td>0.0014</td>  <td>-5.2471</td>  <td>-0.8278</td>  <td>True</td> \n",
       "</tr>\n",
       "<tr>\n",
       "  <td>N2_200mM</td> <td>N2_400mM</td>  <td>-4.2058</td>  <td>0.001</td>  <td>-6.4154</td>  <td>-1.9961</td>  <td>True</td> \n",
       "</tr>\n",
       "<tr>\n",
       "  <td>N2_200mM</td> <td>N2_500mM</td>  <td>-6.0517</td>  <td>0.001</td>  <td>-8.2215</td>  <td>-3.8819</td>  <td>True</td> \n",
       "</tr>\n",
       "<tr>\n",
       "  <td>N2_200mM</td> <td>N2_600mM</td>  <td>-5.8272</td>  <td>0.001</td>  <td>-8.5335</td>  <td>-3.1209</td>  <td>True</td> \n",
       "</tr>\n",
       "<tr>\n",
       "  <td>N2_300mM</td> <td>N2_400mM</td>  <td>-1.1683</td> <td>0.7239</td>  <td>-3.5305</td>  <td>1.1939</td>   <td>False</td>\n",
       "</tr>\n",
       "<tr>\n",
       "  <td>N2_300mM</td> <td>N2_500mM</td>  <td>-3.0142</td> <td>0.0032</td>  <td>-5.3392</td>  <td>-0.6892</td>  <td>True</td> \n",
       "</tr>\n",
       "<tr>\n",
       "  <td>N2_300mM</td> <td>N2_600mM</td>  <td>-2.7897</td> <td>0.0564</td>  <td>-5.6219</td>  <td>0.0425</td>   <td>False</td>\n",
       "</tr>\n",
       "<tr>\n",
       "  <td>N2_400mM</td> <td>N2_500mM</td>  <td>-1.8459</td>  <td>0.214</td>  <td>-4.1709</td>  <td>0.4791</td>   <td>False</td>\n",
       "</tr>\n",
       "<tr>\n",
       "  <td>N2_400mM</td> <td>N2_600mM</td>  <td>-1.6214</td> <td>0.5885</td>  <td>-4.4536</td>  <td>1.2108</td>   <td>False</td>\n",
       "</tr>\n",
       "<tr>\n",
       "  <td>N2_500mM</td> <td>N2_600mM</td>  <td>0.2245</td>    <td>0.9</td>   <td>-2.5768</td>  <td>3.0257</td>   <td>False</td>\n",
       "</tr>\n",
       "</table>"
      ],
      "text/plain": [
       "<class 'statsmodels.iolib.table.SimpleTable'>"
      ]
     },
     "execution_count": 47,
     "metadata": {},
     "output_type": "execute_result"
    }
   ],
   "source": [
    "# run posthoc\n",
    "tukey = multicomp.pairwise_tukeyhsd(df['curve'], df['groupname']).summary()\n",
    "tukey"
   ]
  },
  {
   "cell_type": "code",
   "execution_count": 48,
   "metadata": {},
   "outputs": [],
   "source": [
    "# put in table\n",
    "tukey_df = convert_statsmodel_table2dataframe(tukey)\n",
    "tukey_df.to_csv(os.path.join(working_dir,'curve_desc_bygroup_Nplate_tukeytable.csv'))"
   ]
  },
  {
   "cell_type": "code",
   "execution_count": 49,
   "metadata": {},
   "outputs": [
    {
     "data": {
      "text/html": [
       "<div>\n",
       "<style scoped>\n",
       "    .dataframe tbody tr th:only-of-type {\n",
       "        vertical-align: middle;\n",
       "    }\n",
       "\n",
       "    .dataframe tbody tr th {\n",
       "        vertical-align: top;\n",
       "    }\n",
       "\n",
       "    .dataframe thead th {\n",
       "        text-align: right;\n",
       "    }\n",
       "</style>\n",
       "<table border=\"1\" class=\"dataframe\">\n",
       "  <thead>\n",
       "    <tr style=\"text-align: right;\">\n",
       "      <th>group2</th>\n",
       "      <th>N2_100mM</th>\n",
       "      <th>N2_200mM</th>\n",
       "      <th>N2_300mM</th>\n",
       "      <th>N2_400mM</th>\n",
       "      <th>N2_500mM</th>\n",
       "      <th>N2_600mM</th>\n",
       "    </tr>\n",
       "    <tr>\n",
       "      <th>group1</th>\n",
       "      <th></th>\n",
       "      <th></th>\n",
       "      <th></th>\n",
       "      <th></th>\n",
       "      <th></th>\n",
       "      <th></th>\n",
       "    </tr>\n",
       "  </thead>\n",
       "  <tbody>\n",
       "    <tr>\n",
       "      <th>N2</th>\n",
       "      <td>0.001</td>\n",
       "      <td>0.001</td>\n",
       "      <td>0.0010</td>\n",
       "      <td>0.0010</td>\n",
       "      <td>0.0010</td>\n",
       "      <td>0.0010</td>\n",
       "    </tr>\n",
       "    <tr>\n",
       "      <th>N2_100mM</th>\n",
       "      <td>NaN</td>\n",
       "      <td>0.001</td>\n",
       "      <td>0.0010</td>\n",
       "      <td>0.0010</td>\n",
       "      <td>0.0010</td>\n",
       "      <td>0.0010</td>\n",
       "    </tr>\n",
       "    <tr>\n",
       "      <th>N2_200mM</th>\n",
       "      <td>NaN</td>\n",
       "      <td>NaN</td>\n",
       "      <td>0.0014</td>\n",
       "      <td>0.0010</td>\n",
       "      <td>0.0010</td>\n",
       "      <td>0.0010</td>\n",
       "    </tr>\n",
       "    <tr>\n",
       "      <th>N2_300mM</th>\n",
       "      <td>NaN</td>\n",
       "      <td>NaN</td>\n",
       "      <td>NaN</td>\n",
       "      <td>0.7239</td>\n",
       "      <td>0.0032</td>\n",
       "      <td>0.0564</td>\n",
       "    </tr>\n",
       "    <tr>\n",
       "      <th>N2_400mM</th>\n",
       "      <td>NaN</td>\n",
       "      <td>NaN</td>\n",
       "      <td>NaN</td>\n",
       "      <td>NaN</td>\n",
       "      <td>0.2140</td>\n",
       "      <td>0.5885</td>\n",
       "    </tr>\n",
       "    <tr>\n",
       "      <th>N2_500mM</th>\n",
       "      <td>NaN</td>\n",
       "      <td>NaN</td>\n",
       "      <td>NaN</td>\n",
       "      <td>NaN</td>\n",
       "      <td>NaN</td>\n",
       "      <td>0.9000</td>\n",
       "    </tr>\n",
       "  </tbody>\n",
       "</table>\n",
       "</div>"
      ],
      "text/plain": [
       "group2    N2_100mM  N2_200mM  N2_300mM  N2_400mM  N2_500mM  N2_600mM\n",
       "group1                                                              \n",
       "N2           0.001     0.001    0.0010    0.0010    0.0010    0.0010\n",
       "N2_100mM       NaN     0.001    0.0010    0.0010    0.0010    0.0010\n",
       "N2_200mM       NaN       NaN    0.0014    0.0010    0.0010    0.0010\n",
       "N2_300mM       NaN       NaN       NaN    0.7239    0.0032    0.0564\n",
       "N2_400mM       NaN       NaN       NaN       NaN    0.2140    0.5885\n",
       "N2_500mM       NaN       NaN       NaN       NaN       NaN    0.9000"
      ]
     },
     "execution_count": 49,
     "metadata": {},
     "output_type": "execute_result"
    }
   ],
   "source": [
    "# visualize differences between groups\n",
    "# transform to seaborn heatmap input\n",
    "tukey_df_pvalue_pivot = tukey_df.pivot(index='group1',columns='group2',values='p-adj')\n",
    "tukey_df_pvalue_pivot"
   ]
  },
  {
   "cell_type": "code",
   "execution_count": 50,
   "metadata": {},
   "outputs": [
    {
     "data": {
      "text/html": [
       "<div>\n",
       "<style scoped>\n",
       "    .dataframe tbody tr th:only-of-type {\n",
       "        vertical-align: middle;\n",
       "    }\n",
       "\n",
       "    .dataframe tbody tr th {\n",
       "        vertical-align: top;\n",
       "    }\n",
       "\n",
       "    .dataframe thead th {\n",
       "        text-align: right;\n",
       "    }\n",
       "</style>\n",
       "<table border=\"1\" class=\"dataframe\">\n",
       "  <thead>\n",
       "    <tr style=\"text-align: right;\">\n",
       "      <th>group2</th>\n",
       "      <th>N2_100mM</th>\n",
       "      <th>N2_200mM</th>\n",
       "      <th>N2_300mM</th>\n",
       "      <th>N2_400mM</th>\n",
       "      <th>N2_500mM</th>\n",
       "      <th>N2_600mM</th>\n",
       "    </tr>\n",
       "    <tr>\n",
       "      <th>group1</th>\n",
       "      <th></th>\n",
       "      <th></th>\n",
       "      <th></th>\n",
       "      <th></th>\n",
       "      <th></th>\n",
       "      <th></th>\n",
       "    </tr>\n",
       "  </thead>\n",
       "  <tbody>\n",
       "    <tr>\n",
       "      <th>N2</th>\n",
       "      <td>0.001</td>\n",
       "      <td>0.001</td>\n",
       "      <td>0.0010</td>\n",
       "      <td>0.001</td>\n",
       "      <td>0.0010</td>\n",
       "      <td>0.001</td>\n",
       "    </tr>\n",
       "    <tr>\n",
       "      <th>N2_100mM</th>\n",
       "      <td>NaN</td>\n",
       "      <td>0.001</td>\n",
       "      <td>0.0010</td>\n",
       "      <td>0.001</td>\n",
       "      <td>0.0010</td>\n",
       "      <td>0.001</td>\n",
       "    </tr>\n",
       "    <tr>\n",
       "      <th>N2_200mM</th>\n",
       "      <td>NaN</td>\n",
       "      <td>NaN</td>\n",
       "      <td>0.0014</td>\n",
       "      <td>0.001</td>\n",
       "      <td>0.0010</td>\n",
       "      <td>0.001</td>\n",
       "    </tr>\n",
       "    <tr>\n",
       "      <th>N2_300mM</th>\n",
       "      <td>NaN</td>\n",
       "      <td>NaN</td>\n",
       "      <td>NaN</td>\n",
       "      <td>NaN</td>\n",
       "      <td>0.0032</td>\n",
       "      <td>NaN</td>\n",
       "    </tr>\n",
       "    <tr>\n",
       "      <th>N2_400mM</th>\n",
       "      <td>NaN</td>\n",
       "      <td>NaN</td>\n",
       "      <td>NaN</td>\n",
       "      <td>NaN</td>\n",
       "      <td>NaN</td>\n",
       "      <td>NaN</td>\n",
       "    </tr>\n",
       "    <tr>\n",
       "      <th>N2_500mM</th>\n",
       "      <td>NaN</td>\n",
       "      <td>NaN</td>\n",
       "      <td>NaN</td>\n",
       "      <td>NaN</td>\n",
       "      <td>NaN</td>\n",
       "      <td>NaN</td>\n",
       "    </tr>\n",
       "  </tbody>\n",
       "</table>\n",
       "</div>"
      ],
      "text/plain": [
       "group2    N2_100mM  N2_200mM  N2_300mM  N2_400mM  N2_500mM  N2_600mM\n",
       "group1                                                              \n",
       "N2           0.001     0.001    0.0010     0.001    0.0010     0.001\n",
       "N2_100mM       NaN     0.001    0.0010     0.001    0.0010     0.001\n",
       "N2_200mM       NaN       NaN    0.0014     0.001    0.0010     0.001\n",
       "N2_300mM       NaN       NaN       NaN       NaN    0.0032       NaN\n",
       "N2_400mM       NaN       NaN       NaN       NaN       NaN       NaN\n",
       "N2_500mM       NaN       NaN       NaN       NaN       NaN       NaN"
      ]
     },
     "execution_count": 50,
     "metadata": {},
     "output_type": "execute_result"
    }
   ],
   "source": [
    "# mute n.s.\n",
    "tukey_df_graphing = tukey_df_pvalue_pivot.mask(tukey_df_pvalue_pivot > alpha)\n",
    "tukey_df_graphing"
   ]
  },
  {
   "cell_type": "code",
   "execution_count": 51,
   "metadata": {},
   "outputs": [
    {
     "data": {
      "text/plain": [
       "<matplotlib.axes._subplots.AxesSubplot at 0x1a1eb2d450>"
      ]
     },
     "execution_count": 51,
     "metadata": {},
     "output_type": "execute_result"
    },
    {
     "data": {
      "image/png": "[encoded data removed]",
      "text/plain": [
       "<Figure size 432x288 with 1 Axes>"
      ]
     },
     "metadata": {
      "needs_background": "light"
     },
     "output_type": "display_data"
    }
   ],
   "source": [
    "# bar chart\n",
    "sns.boxplot(x='groupname',y='curve',data=df)"
   ]
  },
  {
   "cell_type": "code",
   "execution_count": 52,
   "metadata": {},
   "outputs": [
    {
     "data": {
      "image/png": "[encoded data removed]",
      "text/plain": [
       "<Figure size 360x432 with 2 Axes>"
      ]
     },
     "metadata": {
      "needs_background": "light"
     },
     "output_type": "display_data"
    }
   ],
   "source": [
    "# visualize\n",
    "plt.figure(figsize=(5,6))\n",
    "cmap = sns.color_palette(\"Reds_r\", 50)\n",
    "sns.heatmap(tukey_df_graphing,cmap=cmap,square=True,linewidth=0.2,vmin=pvlimit,vmax=alpha)\n",
    "plt.savefig(os.path.join(working_dir,'curve_desc_bygroup_Nplate_tukeytable.jpeg'))"
   ]
  }
 ],
 "metadata": {
  "kernelspec": {
   "display_name": "Python 3",
   "language": "python",
   "name": "python3"
  },
  "language_info": {
   "codemirror_mode": {
    "name": "ipython",
    "version": 3
   },
   "file_extension": ".py",
   "mimetype": "text/x-python",
   "name": "python",
   "nbconvert_exporter": "python",
   "pygments_lexer": "ipython3",
   "version": "3.7.7"
  }
 },
 "nbformat": 4,
 "nbformat_minor": 4
}
