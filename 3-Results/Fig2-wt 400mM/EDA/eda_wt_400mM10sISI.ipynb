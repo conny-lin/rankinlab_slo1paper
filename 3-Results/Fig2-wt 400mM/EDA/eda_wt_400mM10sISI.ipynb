{
 "cells": [
  {
   "cell_type": "markdown",
   "metadata": {},
   "source": [
    "# EDA of N2 400mM 10s ISI data\n",
    "Conny Lin | July 4, 2020\n",
    "\n",
    "Some data seems to be ethanol data. Let's take a look with neural network machine learning predictions\n"
   ]
  },
  {
   "cell_type": "code",
   "execution_count": null,
   "metadata": {},
   "outputs": [],
   "source": []
  }
 ],
 "metadata": {
  "language_info": {
   "codemirror_mode": {
    "name": "ipython",
    "version": 3
   },
   "file_extension": ".py",
   "mimetype": "text/x-python",
   "name": "python",
   "nbconvert_exporter": "python",
   "pygments_lexer": "ipython3",
   "version": "3.8.3-final"
  },
  "orig_nbformat": 2,
  "kernelspec": {
   "name": "rankinlab",
   "display_name": "rankinlab"
  }
 },
 "nbformat": 4,
 "nbformat_minor": 2
}