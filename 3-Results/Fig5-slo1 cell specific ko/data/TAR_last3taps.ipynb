{
 "cells": [
  {
   "cell_type": "code",
   "execution_count": 76,
   "metadata": {
    "tags": []
   },
   "outputs": [
    {
     "output_type": "stream",
     "name": "stdout",
     "text": "importing libraries\nset variables\n"
    }
   ],
   "source": [
    "# import libraries\n",
    "print('importing libraries')\n",
    "import os, glob, sys, pathlib, shutil\n",
    "import numpy as np\n",
    "import pandas as pd\n",
    "from statsmodels.formula.api import ols\n",
    "from statsmodels.stats.anova import anova_lm\n",
    "from statsmodels.stats import multicomp\n",
    "import matplotlib.pyplot as plt\n",
    "import seaborn as sns\n",
    "\n",
    "# set local variables --\n",
    "print('set variables')\n",
    "# paths for data\n",
    "DATA_DIR = '/Users/connylin/Dropbox/CA/_Publications/Manuscript RL Alcohol hab model slo1/rankinlab_slo1paper/3-Results/Fig5-slo1 cell specific ko/data'\n",
    "SUB_DIR = 'Dance_rType2'\n",
    "PRJ_TAG = 'last3taps' \n",
    "MEASURES = ['AccProb']\n",
    "ANOVA_STRING = 'strain + dose + strain:dose'\n",
    "pvlimit = 0.001\n",
    "alpha = 0.05\n",
    "independent_variable = 'groupname'\n",
    "# get strain folder\n",
    "strain_dirs = glob.glob(os.path.join(DATA_DIR, '*', SUB_DIR))"
   ]
  },
  {
   "cell_type": "code",
   "execution_count": 74,
   "metadata": {
    "tags": []
   },
   "outputs": [
    {
     "output_type": "stream",
     "name": "stdout",
     "text": "\n\nProcessing: HKK796\nexcel file written\n"
    },
    {
     "output_type": "error",
     "ename": "NameError",
     "evalue": "name 'PROJ_TAG' is not defined",
     "traceback": [
      "\u001b[0;31m---------------------------------------------------------------------------\u001b[0m",
      "\u001b[0;31mNameError\u001b[0m                                 Traceback (most recent call last)",
      "\u001b[0;32m<ipython-input-74-f14709785dbf>\u001b[0m in \u001b[0;36m<module>\u001b[0;34m\u001b[0m\n\u001b[1;32m     43\u001b[0m     \u001b[0;31m# to stats --\u001b[0m\u001b[0;34m\u001b[0m\u001b[0;34m\u001b[0m\u001b[0;34m\u001b[0m\u001b[0m\n\u001b[1;32m     44\u001b[0m     \u001b[0;31m# open text file to record stats output\u001b[0m\u001b[0;34m\u001b[0m\u001b[0;34m\u001b[0m\u001b[0;34m\u001b[0m\u001b[0m\n\u001b[0;32m---> 45\u001b[0;31m     \u001b[0mfilename\u001b[0m \u001b[0;34m=\u001b[0m \u001b[0mos\u001b[0m\u001b[0;34m.\u001b[0m\u001b[0mpath\u001b[0m\u001b[0;34m.\u001b[0m\u001b[0mjoin\u001b[0m\u001b[0;34m(\u001b[0m\u001b[0moutput_dir\u001b[0m\u001b[0;34m,\u001b[0m \u001b[0;34m'anova_'\u001b[0m\u001b[0;34m+\u001b[0m\u001b[0mPROJ_TAG\u001b[0m\u001b[0;34m+\u001b[0m\u001b[0;34m'.txt'\u001b[0m\u001b[0;34m)\u001b[0m\u001b[0;34m\u001b[0m\u001b[0;34m\u001b[0m\u001b[0m\n\u001b[0m\u001b[1;32m     46\u001b[0m     \u001b[0mtext_file\u001b[0m \u001b[0;34m=\u001b[0m \u001b[0mopen\u001b[0m\u001b[0;34m(\u001b[0m\u001b[0mfilename\u001b[0m\u001b[0;34m,\u001b[0m \u001b[0;34m'w'\u001b[0m\u001b[0;34m)\u001b[0m\u001b[0;34m\u001b[0m\u001b[0;34m\u001b[0m\u001b[0m\n\u001b[1;32m     47\u001b[0m     \u001b[0mtext_file\u001b[0m\u001b[0;34m.\u001b[0m\u001b[0mwrite\u001b[0m\u001b[0;34m(\u001b[0m\u001b[0;34mf'ANOVA {PROJ_TAG}\\n'\u001b[0m\u001b[0;34m)\u001b[0m\u001b[0;34m\u001b[0m\u001b[0;34m\u001b[0m\u001b[0m\n",
      "\u001b[0;31mNameError\u001b[0m: name 'PROJ_TAG' is not defined"
     ]
    }
   ],
   "source": [
    "for strain_dir in strain_dirs:\n",
    "    # strain info and dirs\n",
    "    path = pathlib.PurePath(strain_dir)\n",
    "    strain_name = path.parent.name\n",
    "    print(f'\\n\\nProcessing: {strain_name}')\n",
    "    output_dir = strain_dir\n",
    "\n",
    "    # load data\n",
    "    data_path = os.path.join(strain_dir, 'rawdata.csv')\n",
    "    data = pd.read_csv(data_path)\n",
    "\n",
    "    # get only N2 data from this set\n",
    "    if any(data['groupname'] == 'N2'):\n",
    "        # exp paths for experimental strain\n",
    "        pathobj = map(lambda x: pathlib.PurePath(x), data['mwtpath'])\n",
    "        data['exp_path'] = list(map(lambda x: str(x.parent.parent), pathobj))\n",
    "        exp_path_strain = data.loc[data['groupname'] == strain_name, 'exp_path'].value_counts().index.values\n",
    "        # find N2 equals to exp strain paths\n",
    "        data2 = data[data['exp_path'].isin(exp_path_strain)].copy()\n",
    "        # put aside the old raw data file\n",
    "        data_path_putaside = os.path.join(strain_dir, 'rawdata_n2fromotherexp.csv')\n",
    "        shutil.copy(data_dir, data_path_putaside)\n",
    "        # save raw data with only exp N2 in it\n",
    "        data2.to_csv(data_dir, index=False)\n",
    "        data = data2.copy()\n",
    "        del data2\n",
    "    \n",
    "    # data transformation (get last 3 taps avg per plate)\n",
    "    data_last3taps = data[data['tap'].isin([28, 29, 30])].copy()\n",
    "    # drop tap and n \n",
    "    data_last3taps.drop(columns=['n','tap'], inplace=True)\n",
    "    data_last3taps = data_last3taps.groupby(by=['mwtpath','groupname','strain','dose']).agg('mean')\n",
    "    data_last3taps.reset_index(inplace=True)\n",
    "    data = data_last3taps.copy()\n",
    "\n",
    "    # output excel descriptive stats for graphing\n",
    "    excel_output = data_last3taps.groupby(by='groupname').agg(['count','mean','sem'])\n",
    "    excel_filepath = os.path.join(raw_data_dir, 'Last3taps.xlsx')\n",
    "    with pd.ExcelWriter(excel_filepath) as writer: \n",
    "         for msr in MEASURES: \n",
    "             excel_output[msr].to_excel(writer, sheet_name=msr)\n",
    "    print('excel file written')\n",
    "\n",
    "    # to stats --\n",
    "    # open text file to record stats output\n",
    "    filename = os.path.join(output_dir, 'anova_'+PRJ_TAG+'.txt')\n",
    "    text_file = open(filename, 'w')\n",
    "    text_file.write(f'ANOVA {PRJ_TAG}\\n')\n",
    "    # run anova, posthoc, swarm plot through each measures\n",
    "    for msr in MEASURES:\n",
    "        # write header for text output\n",
    "        write_string = f'<{msr}>'\n",
    "        print(write_string)\n",
    "        text_file.write(write_string)\n",
    "        write_string = '--ANOVA--'\n",
    "        print(write_string)\n",
    "        text_file.write(write_string)\n",
    "        # run anova \n",
    "        ols_equation = f'{msr} ~ {ANOVA_STRING}'\n",
    "        lm = ols(ols_equation, data_integral).fit()\n",
    "        anovaT = anova_lm(lm)\n",
    "        # print ANOVA results\n",
    "        for factor in anovaT.index[:-1]:\n",
    "            df = anovaT.loc[factor, 'df']\n",
    "            F = anovaT.loc[factor, 'F']\n",
    "            pv = stats.pvalue_string(anovaT.loc[factor, 'PR(>F)'], \n",
    "                                    pvlimit, alpha)\n",
    "            write_string = f'{factor}: F({df:.0f})={F:.3f}, {pv}'\n",
    "            print(f'\\t{write_string}')\n",
    "            text_file.write(write_string)\n",
    "        # posthoc (get rid of nan)\n",
    "        data_no_nan = data_integral[[independent_variable, msr]].dropna()\n",
    "        r = multicomp.pairwise_tukeyhsd(data_no_nan[msr], \n",
    "                                        data_no_nan[independent_variable])\n",
    "        # print posthoc results\n",
    "        write_string = '--Tukey HSD posthoc--'\n",
    "        print(write_string)\n",
    "        text_file.write(write_string)\n",
    "        df = pd.DataFrame(data=r._results_table.data[1:], \n",
    "                            columns=r._results_table.data[0])\n",
    "        for i in df.index.values:\n",
    "            g1 = df.loc[i, 'group1']\n",
    "            g2 = df.loc[i, 'group2']\n",
    "            pv = stats.pvalue_string(df.loc[i, 'p-adj'], pvlimit, alpha)\n",
    "            write_string = f'\\t{g1} vs {g2}, {pv}'\n",
    "            print(f'\\t{write_string}')\n",
    "            text_file.write(write_string)\n",
    "        \n",
    "        # swarm plot --\n",
    "        # make graph\n",
    "        plt.figure()\n",
    "        sns.swarmplot(x='groupname',y=msr,data=)\n",
    "        plt.title(msr)\n",
    "        # construct save path\n",
    "        savefname = f'{msr}_swarmplot_{PRJ_TAG}.jpeg'\n",
    "        savepath = os.path.join(output_dir, savefname)\n",
    "        # save fig\n",
    "        plt.savefig(savepath)\n",
    "        plt.show() \n",
    "        plt.close()\n",
    "    # finish text export\n",
    "    text_file.close()\n",
    "    print(f'\\n{strain_name} complete')\n",
    "    print('=============================================')\n",
    "\n",
    "    "
   ]
  },
  {
   "cell_type": "code",
   "execution_count": 75,
   "metadata": {
    "tags": []
   },
   "outputs": [
    {
     "output_type": "execute_result",
     "data": {
      "text/plain": "                                              mwtpath     groupname  strain  \\\n0   /Volumes/COBOLT/MWT/20190127X_XX_100s30x10s10s...        HKK796  HKK796   \n1   /Volumes/COBOLT/MWT/20190127X_XX_100s30x10s10s...        HKK796  HKK796   \n2   /Volumes/COBOLT/MWT/20190127X_XX_100s30x10s10s...        HKK796  HKK796   \n3   /Volumes/COBOLT/MWT/20190127X_XX_100s30x10s10s...        HKK796  HKK796   \n4   /Volumes/COBOLT/MWT/20190127X_XX_100s30x10s10s...        HKK796  HKK796   \n5   /Volumes/COBOLT/MWT/20190127X_XX_100s30x10s10s...  HKK796_400mM  HKK796   \n6   /Volumes/COBOLT/MWT/20190127X_XX_100s30x10s10s...  HKK796_400mM  HKK796   \n7   /Volumes/COBOLT/MWT/20190127X_XX_100s30x10s10s...  HKK796_400mM  HKK796   \n8   /Volumes/COBOLT/MWT/20190127X_XX_100s30x10s10s...  HKK796_400mM  HKK796   \n9   /Volumes/COBOLT/MWT/20190127X_XX_100s30x10s10s...  HKK796_400mM  HKK796   \n10  /Volumes/COBOLT/MWT/20190127X_XX_100s30x10s10s...            N2      N2   \n11  /Volumes/COBOLT/MWT/20190127X_XX_100s30x10s10s...            N2      N2   \n12  /Volumes/COBOLT/MWT/20190127X_XX_100s30x10s10s...            N2      N2   \n13  /Volumes/COBOLT/MWT/20190127X_XX_100s30x10s10s...            N2      N2   \n14  /Volumes/COBOLT/MWT/20190127X_XX_100s30x10s10s...            N2      N2   \n15  /Volumes/COBOLT/MWT/20190127X_XX_100s30x10s10s...      N2_400mM      N2   \n16  /Volumes/COBOLT/MWT/20190127X_XX_100s30x10s10s...      N2_400mM      N2   \n17  /Volumes/COBOLT/MWT/20190127X_XX_100s30x10s10s...      N2_400mM      N2   \n18  /Volumes/COBOLT/MWT/20190127X_XX_100s30x10s10s...      N2_400mM      N2   \n19  /Volumes/COBOLT/MWT/20190127X_XX_100s30x10s10s...      N2_400mM      N2   \n20  /Volumes/COBOLT/MWT/20190331X_XX_100s30x10s10s...        HKK796  HKK796   \n21  /Volumes/COBOLT/MWT/20190331X_XX_100s30x10s10s...        HKK796  HKK796   \n22  /Volumes/COBOLT/MWT/20190331X_XX_100s30x10s10s...        HKK796  HKK796   \n23  /Volumes/COBOLT/MWT/20190331X_XX_100s30x10s10s...        HKK796  HKK796   \n24  /Volumes/COBOLT/MWT/20190331X_XX_100s30x10s10s...        HKK796  HKK796   \n25  /Volumes/COBOLT/MWT/20190331X_XX_100s30x10s10s...        HKK796  HKK796   \n26  /Volumes/COBOLT/MWT/20190331X_XX_100s30x10s10s...  HKK796_400mM  HKK796   \n27  /Volumes/COBOLT/MWT/20190331X_XX_100s30x10s10s...  HKK796_400mM  HKK796   \n28  /Volumes/COBOLT/MWT/20190331X_XX_100s30x10s10s...  HKK796_400mM  HKK796   \n29  /Volumes/COBOLT/MWT/20190331X_XX_100s30x10s10s...  HKK796_400mM  HKK796   \n30  /Volumes/COBOLT/MWT/20190331X_XX_100s30x10s10s...  HKK796_400mM  HKK796   \n31  /Volumes/COBOLT/MWT/20190331X_XX_100s30x10s10s...  HKK796_400mM  HKK796   \n32  /Volumes/COBOLT/MWT/20190331X_XX_100s30x10s10s...            N2      N2   \n33  /Volumes/COBOLT/MWT/20190331X_XX_100s30x10s10s...            N2      N2   \n34  /Volumes/COBOLT/MWT/20190331X_XX_100s30x10s10s...            N2      N2   \n35  /Volumes/COBOLT/MWT/20190331X_XX_100s30x10s10s...            N2      N2   \n36  /Volumes/COBOLT/MWT/20190331X_XX_100s30x10s10s...            N2      N2   \n37  /Volumes/COBOLT/MWT/20190331X_XX_100s30x10s10s...            N2      N2   \n38  /Volumes/COBOLT/MWT/20190331X_XX_100s30x10s10s...      N2_400mM      N2   \n39  /Volumes/COBOLT/MWT/20190331X_XX_100s30x10s10s...      N2_400mM      N2   \n40  /Volumes/COBOLT/MWT/20190331X_XX_100s30x10s10s...      N2_400mM      N2   \n41  /Volumes/COBOLT/MWT/20190331X_XX_100s30x10s10s...      N2_400mM      N2   \n42  /Volumes/COBOLT/MWT/20190331X_XX_100s30x10s10s...      N2_400mM      N2   \n43  /Volumes/COBOLT/MWT/20190331X_XX_100s30x10s10s...      N2_400mM      N2   \n\n     dose   AccProb  \n0     0mM  0.245576  \n1     0mM  0.232748  \n2     0mM  0.192586  \n3     0mM  0.174464  \n4     0mM  0.163144  \n5   400mM  0.586364  \n6   400mM  0.541312  \n7   400mM  0.573611  \n8   400mM  0.630805  \n9   400mM  0.555184  \n10    0mM  0.280613  \n11    0mM  0.276023  \n12    0mM  0.259020  \n13    0mM  0.356567  \n14    0mM  0.428832  \n15  400mM  0.598765  \n16  400mM  0.675466  \n17  400mM  0.540412  \n18  400mM  0.777371  \n19  400mM  0.659107  \n20    0mM  0.153994  \n21    0mM  0.190364  \n22    0mM  0.169842  \n23    0mM  0.109560  \n24    0mM  0.194444  \n25    0mM  0.138798  \n26  400mM  0.592196  \n27  400mM  0.619017  \n28  400mM  0.536842  \n29  400mM  0.495921  \n30  400mM  0.705882  \n31  400mM  0.628968  \n32    0mM  0.222726  \n33    0mM  0.173882  \n34    0mM  0.279065  \n35    0mM  0.211156  \n36    0mM  0.227907  \n37    0mM  0.220000  \n38  400mM  0.599912  \n39  400mM  0.589827  \n40  400mM  0.632284  \n41  400mM  0.559524  \n42  400mM  0.547120  \n43  400mM  0.726984  ",
      "text/html": "<div>\n<style scoped>\n    .dataframe tbody tr th:only-of-type {\n        vertical-align: middle;\n    }\n\n    .dataframe tbody tr th {\n        vertical-align: top;\n    }\n\n    .dataframe thead th {\n        text-align: right;\n    }\n</style>\n<table border=\"1\" class=\"dataframe\">\n  <thead>\n    <tr style=\"text-align: right;\">\n      <th></th>\n      <th>mwtpath</th>\n      <th>groupname</th>\n      <th>strain</th>\n      <th>dose</th>\n      <th>AccProb</th>\n    </tr>\n  </thead>\n  <tbody>\n    <tr>\n      <th>0</th>\n      <td>/Volumes/COBOLT/MWT/20190127X_XX_100s30x10s10s...</td>\n      <td>HKK796</td>\n      <td>HKK796</td>\n      <td>0mM</td>\n      <td>0.245576</td>\n    </tr>\n    <tr>\n      <th>1</th>\n      <td>/Volumes/COBOLT/MWT/20190127X_XX_100s30x10s10s...</td>\n      <td>HKK796</td>\n      <td>HKK796</td>\n      <td>0mM</td>\n      <td>0.232748</td>\n    </tr>\n    <tr>\n      <th>2</th>\n      <td>/Volumes/COBOLT/MWT/20190127X_XX_100s30x10s10s...</td>\n      <td>HKK796</td>\n      <td>HKK796</td>\n      <td>0mM</td>\n      <td>0.192586</td>\n    </tr>\n    <tr>\n      <th>3</th>\n      <td>/Volumes/COBOLT/MWT/20190127X_XX_100s30x10s10s...</td>\n      <td>HKK796</td>\n      <td>HKK796</td>\n      <td>0mM</td>\n      <td>0.174464</td>\n    </tr>\n    <tr>\n      <th>4</th>\n      <td>/Volumes/COBOLT/MWT/20190127X_XX_100s30x10s10s...</td>\n      <td>HKK796</td>\n      <td>HKK796</td>\n      <td>0mM</td>\n      <td>0.163144</td>\n    </tr>\n    <tr>\n      <th>5</th>\n      <td>/Volumes/COBOLT/MWT/20190127X_XX_100s30x10s10s...</td>\n      <td>HKK796_400mM</td>\n      <td>HKK796</td>\n      <td>400mM</td>\n      <td>0.586364</td>\n    </tr>\n    <tr>\n      <th>6</th>\n      <td>/Volumes/COBOLT/MWT/20190127X_XX_100s30x10s10s...</td>\n      <td>HKK796_400mM</td>\n      <td>HKK796</td>\n      <td>400mM</td>\n      <td>0.541312</td>\n    </tr>\n    <tr>\n      <th>7</th>\n      <td>/Volumes/COBOLT/MWT/20190127X_XX_100s30x10s10s...</td>\n      <td>HKK796_400mM</td>\n      <td>HKK796</td>\n      <td>400mM</td>\n      <td>0.573611</td>\n    </tr>\n    <tr>\n      <th>8</th>\n      <td>/Volumes/COBOLT/MWT/20190127X_XX_100s30x10s10s...</td>\n      <td>HKK796_400mM</td>\n      <td>HKK796</td>\n      <td>400mM</td>\n      <td>0.630805</td>\n    </tr>\n    <tr>\n      <th>9</th>\n      <td>/Volumes/COBOLT/MWT/20190127X_XX_100s30x10s10s...</td>\n      <td>HKK796_400mM</td>\n      <td>HKK796</td>\n      <td>400mM</td>\n      <td>0.555184</td>\n    </tr>\n    <tr>\n      <th>10</th>\n      <td>/Volumes/COBOLT/MWT/20190127X_XX_100s30x10s10s...</td>\n      <td>N2</td>\n      <td>N2</td>\n      <td>0mM</td>\n      <td>0.280613</td>\n    </tr>\n    <tr>\n      <th>11</th>\n      <td>/Volumes/COBOLT/MWT/20190127X_XX_100s30x10s10s...</td>\n      <td>N2</td>\n      <td>N2</td>\n      <td>0mM</td>\n      <td>0.276023</td>\n    </tr>\n    <tr>\n      <th>12</th>\n      <td>/Volumes/COBOLT/MWT/20190127X_XX_100s30x10s10s...</td>\n      <td>N2</td>\n      <td>N2</td>\n      <td>0mM</td>\n      <td>0.259020</td>\n    </tr>\n    <tr>\n      <th>13</th>\n      <td>/Volumes/COBOLT/MWT/20190127X_XX_100s30x10s10s...</td>\n      <td>N2</td>\n      <td>N2</td>\n      <td>0mM</td>\n      <td>0.356567</td>\n    </tr>\n    <tr>\n      <th>14</th>\n      <td>/Volumes/COBOLT/MWT/20190127X_XX_100s30x10s10s...</td>\n      <td>N2</td>\n      <td>N2</td>\n      <td>0mM</td>\n      <td>0.428832</td>\n    </tr>\n    <tr>\n      <th>15</th>\n      <td>/Volumes/COBOLT/MWT/20190127X_XX_100s30x10s10s...</td>\n      <td>N2_400mM</td>\n      <td>N2</td>\n      <td>400mM</td>\n      <td>0.598765</td>\n    </tr>\n    <tr>\n      <th>16</th>\n      <td>/Volumes/COBOLT/MWT/20190127X_XX_100s30x10s10s...</td>\n      <td>N2_400mM</td>\n      <td>N2</td>\n      <td>400mM</td>\n      <td>0.675466</td>\n    </tr>\n    <tr>\n      <th>17</th>\n      <td>/Volumes/COBOLT/MWT/20190127X_XX_100s30x10s10s...</td>\n      <td>N2_400mM</td>\n      <td>N2</td>\n      <td>400mM</td>\n      <td>0.540412</td>\n    </tr>\n    <tr>\n      <th>18</th>\n      <td>/Volumes/COBOLT/MWT/20190127X_XX_100s30x10s10s...</td>\n      <td>N2_400mM</td>\n      <td>N2</td>\n      <td>400mM</td>\n      <td>0.777371</td>\n    </tr>\n    <tr>\n      <th>19</th>\n      <td>/Volumes/COBOLT/MWT/20190127X_XX_100s30x10s10s...</td>\n      <td>N2_400mM</td>\n      <td>N2</td>\n      <td>400mM</td>\n      <td>0.659107</td>\n    </tr>\n    <tr>\n      <th>20</th>\n      <td>/Volumes/COBOLT/MWT/20190331X_XX_100s30x10s10s...</td>\n      <td>HKK796</td>\n      <td>HKK796</td>\n      <td>0mM</td>\n      <td>0.153994</td>\n    </tr>\n    <tr>\n      <th>21</th>\n      <td>/Volumes/COBOLT/MWT/20190331X_XX_100s30x10s10s...</td>\n      <td>HKK796</td>\n      <td>HKK796</td>\n      <td>0mM</td>\n      <td>0.190364</td>\n    </tr>\n    <tr>\n      <th>22</th>\n      <td>/Volumes/COBOLT/MWT/20190331X_XX_100s30x10s10s...</td>\n      <td>HKK796</td>\n      <td>HKK796</td>\n      <td>0mM</td>\n      <td>0.169842</td>\n    </tr>\n    <tr>\n      <th>23</th>\n      <td>/Volumes/COBOLT/MWT/20190331X_XX_100s30x10s10s...</td>\n      <td>HKK796</td>\n      <td>HKK796</td>\n      <td>0mM</td>\n      <td>0.109560</td>\n    </tr>\n    <tr>\n      <th>24</th>\n      <td>/Volumes/COBOLT/MWT/20190331X_XX_100s30x10s10s...</td>\n      <td>HKK796</td>\n      <td>HKK796</td>\n      <td>0mM</td>\n      <td>0.194444</td>\n    </tr>\n    <tr>\n      <th>25</th>\n      <td>/Volumes/COBOLT/MWT/20190331X_XX_100s30x10s10s...</td>\n      <td>HKK796</td>\n      <td>HKK796</td>\n      <td>0mM</td>\n      <td>0.138798</td>\n    </tr>\n    <tr>\n      <th>26</th>\n      <td>/Volumes/COBOLT/MWT/20190331X_XX_100s30x10s10s...</td>\n      <td>HKK796_400mM</td>\n      <td>HKK796</td>\n      <td>400mM</td>\n      <td>0.592196</td>\n    </tr>\n    <tr>\n      <th>27</th>\n      <td>/Volumes/COBOLT/MWT/20190331X_XX_100s30x10s10s...</td>\n      <td>HKK796_400mM</td>\n      <td>HKK796</td>\n      <td>400mM</td>\n      <td>0.619017</td>\n    </tr>\n    <tr>\n      <th>28</th>\n      <td>/Volumes/COBOLT/MWT/20190331X_XX_100s30x10s10s...</td>\n      <td>HKK796_400mM</td>\n      <td>HKK796</td>\n      <td>400mM</td>\n      <td>0.536842</td>\n    </tr>\n    <tr>\n      <th>29</th>\n      <td>/Volumes/COBOLT/MWT/20190331X_XX_100s30x10s10s...</td>\n      <td>HKK796_400mM</td>\n      <td>HKK796</td>\n      <td>400mM</td>\n      <td>0.495921</td>\n    </tr>\n    <tr>\n      <th>30</th>\n      <td>/Volumes/COBOLT/MWT/20190331X_XX_100s30x10s10s...</td>\n      <td>HKK796_400mM</td>\n      <td>HKK796</td>\n      <td>400mM</td>\n      <td>0.705882</td>\n    </tr>\n    <tr>\n      <th>31</th>\n      <td>/Volumes/COBOLT/MWT/20190331X_XX_100s30x10s10s...</td>\n      <td>HKK796_400mM</td>\n      <td>HKK796</td>\n      <td>400mM</td>\n      <td>0.628968</td>\n    </tr>\n    <tr>\n      <th>32</th>\n      <td>/Volumes/COBOLT/MWT/20190331X_XX_100s30x10s10s...</td>\n      <td>N2</td>\n      <td>N2</td>\n      <td>0mM</td>\n      <td>0.222726</td>\n    </tr>\n    <tr>\n      <th>33</th>\n      <td>/Volumes/COBOLT/MWT/20190331X_XX_100s30x10s10s...</td>\n      <td>N2</td>\n      <td>N2</td>\n      <td>0mM</td>\n      <td>0.173882</td>\n    </tr>\n    <tr>\n      <th>34</th>\n      <td>/Volumes/COBOLT/MWT/20190331X_XX_100s30x10s10s...</td>\n      <td>N2</td>\n      <td>N2</td>\n      <td>0mM</td>\n      <td>0.279065</td>\n    </tr>\n    <tr>\n      <th>35</th>\n      <td>/Volumes/COBOLT/MWT/20190331X_XX_100s30x10s10s...</td>\n      <td>N2</td>\n      <td>N2</td>\n      <td>0mM</td>\n      <td>0.211156</td>\n    </tr>\n    <tr>\n      <th>36</th>\n      <td>/Volumes/COBOLT/MWT/20190331X_XX_100s30x10s10s...</td>\n      <td>N2</td>\n      <td>N2</td>\n      <td>0mM</td>\n      <td>0.227907</td>\n    </tr>\n    <tr>\n      <th>37</th>\n      <td>/Volumes/COBOLT/MWT/20190331X_XX_100s30x10s10s...</td>\n      <td>N2</td>\n      <td>N2</td>\n      <td>0mM</td>\n      <td>0.220000</td>\n    </tr>\n    <tr>\n      <th>38</th>\n      <td>/Volumes/COBOLT/MWT/20190331X_XX_100s30x10s10s...</td>\n      <td>N2_400mM</td>\n      <td>N2</td>\n      <td>400mM</td>\n      <td>0.599912</td>\n    </tr>\n    <tr>\n      <th>39</th>\n      <td>/Volumes/COBOLT/MWT/20190331X_XX_100s30x10s10s...</td>\n      <td>N2_400mM</td>\n      <td>N2</td>\n      <td>400mM</td>\n      <td>0.589827</td>\n    </tr>\n    <tr>\n      <th>40</th>\n      <td>/Volumes/COBOLT/MWT/20190331X_XX_100s30x10s10s...</td>\n      <td>N2_400mM</td>\n      <td>N2</td>\n      <td>400mM</td>\n      <td>0.632284</td>\n    </tr>\n    <tr>\n      <th>41</th>\n      <td>/Volumes/COBOLT/MWT/20190331X_XX_100s30x10s10s...</td>\n      <td>N2_400mM</td>\n      <td>N2</td>\n      <td>400mM</td>\n      <td>0.559524</td>\n    </tr>\n    <tr>\n      <th>42</th>\n      <td>/Volumes/COBOLT/MWT/20190331X_XX_100s30x10s10s...</td>\n      <td>N2_400mM</td>\n      <td>N2</td>\n      <td>400mM</td>\n      <td>0.547120</td>\n    </tr>\n    <tr>\n      <th>43</th>\n      <td>/Volumes/COBOLT/MWT/20190331X_XX_100s30x10s10s...</td>\n      <td>N2_400mM</td>\n      <td>N2</td>\n      <td>400mM</td>\n      <td>0.726984</td>\n    </tr>\n  </tbody>\n</table>\n</div>"
     },
     "metadata": {},
     "execution_count": 75
    }
   ],
   "source": [
    "data_last3taps"
   ]
  },
  {
   "cell_type": "code",
   "execution_count": null,
   "metadata": {},
   "outputs": [],
   "source": []
  }
 ],
 "metadata": {
  "language_info": {
   "codemirror_mode": {
    "name": "ipython",
    "version": 3
   },
   "file_extension": ".py",
   "mimetype": "text/x-python",
   "name": "python",
   "nbconvert_exporter": "python",
   "pygments_lexer": "ipython3",
   "version": "3.7.7-final"
  },
  "orig_nbformat": 2,
  "kernelspec": {
   "name": "python3",
   "display_name": "Python 3"
  }
 },
 "nbformat": 4,
 "nbformat_minor": 2
}