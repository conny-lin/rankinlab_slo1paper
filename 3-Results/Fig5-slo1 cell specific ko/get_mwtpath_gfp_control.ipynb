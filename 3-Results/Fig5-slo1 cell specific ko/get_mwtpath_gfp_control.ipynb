{
 "cells": [
  {
   "cell_type": "code",
   "execution_count": null,
   "metadata": {},
   "outputs": [],
   "source": [
    "# get mwtpaths for each group"
   ]
  },
  {
   "cell_type": "code",
   "execution_count": 17,
   "metadata": {},
   "outputs": [],
   "source": [
    "import pandas as pd\n",
    "import numpy as np\n",
    "import os, glob\n",
    "\n",
    "pDB = '/Users/connylin/Dropbox/CA/_Publications/Manuscript RL Alcohol hab model slo1/rankinlab_slo1paper/3-Results/Fig5-slo1 cell specific ko/data_n2_control/mwtdb_all.csv'\n",
    "pHome = '/Users/connylin/Dropbox/CA/_Publications/Manuscript RL Alcohol hab model slo1/rankinlab_slo1paper/3-Results/Fig5-slo1 cell specific ko'\n",
    "GROUPS = {'HKK796': ['N2', 'N2_400mM', 'HKK796', 'HKK796_400mM'],\n",
    "            'HKK1165': ['HKK796','HKK796_400mM', 'HKK1165', 'HKK1165_400mM'],\n",
    "            'VG902': ['HKK796','HKK796_400mM', 'VG902', 'VG902_400mM'],\n",
    "            'VG903': ['HKK796','HKK796_400mM', 'VG903', 'VG903_400mM']}"
   ]
  },
  {
   "cell_type": "code",
   "execution_count": 18,
   "metadata": {},
   "outputs": [],
   "source": [
    "db = pd.read_csv(pDB)\n",
    "mwtpath = db['mwtpath'].str.split(pat='/',expand=True)"
   ]
  },
  {
   "cell_type": "code",
   "execution_count": 20,
   "metadata": {},
   "outputs": [],
   "source": [
    "for strain in GROUPS.keys():\n",
    "    groups = GROUPS[strain]\n",
    "    mwtpath = db['mwtpath'].loc[db['groupname'].isin(groups)]\n",
    "    psave_strain = os.path.join(pHome, 'data', strain)\n",
    "    if not os.path.isdir(psave_strain):\n",
    "        os.makedirs(psave_strain)\n",
    "    psave = os.path.join(psave_strain, 'mwtpath.csv')\n",
    "    mwtpath.to_csv(psave)"
   ]
  },
  {
   "cell_type": "code",
   "execution_count": null,
   "metadata": {},
   "outputs": [],
   "source": []
  }
 ],
 "metadata": {
  "language_info": {
   "codemirror_mode": {
    "name": "ipython",
    "version": 3
   },
   "file_extension": ".py",
   "mimetype": "text/x-python",
   "name": "python",
   "nbconvert_exporter": "python",
   "pygments_lexer": "ipython3",
   "version": "3.7.7-final"
  },
  "orig_nbformat": 2,
  "kernelspec": {
   "name": "python3",
   "display_name": "Python 3"
  }
 },
 "nbformat": 4,
 "nbformat_minor": 2
}