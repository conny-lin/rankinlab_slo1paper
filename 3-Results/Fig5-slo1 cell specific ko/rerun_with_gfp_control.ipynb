{
 "cells": [
  {
   "cell_type": "code",
   "execution_count": 41,
   "metadata": {},
   "outputs": [],
   "source": [
    "\n",
    "pDB = '/Users/connylin/Dropbox/CA/_Publications/Manuscript RL Alcohol hab model slo1/rankinlab_slo1paper/3-Results/Fig5-slo1 cell specific ko/data/rawdata_all.csv'\n",
    "\n"
   ]
  },
  {
   "cell_type": "code",
   "execution_count": 45,
   "metadata": {},
   "outputs": [],
   "source": [
    "import glob, os\n",
    "import pandas as pd\n",
    "import numpy as np\n",
    "\n",
    "df = pd.read_csv(pDB)\n",
    "GROUPS = {'HKK796': ['N2', 'N2_400mM', 'HKK796', 'HKK796_400mM'],\n",
    "            'HKK1165': ['HKK796','HKK796_400mM', 'HKK1165', 'HKK1165_400mM'],\n",
    "            'VG902': ['HKK796','HKK796_400mM', 'VG902', 'VG902_400mM'],\n",
    "            'VG903': ['HKK796','HKK796_400mM', 'VG903', 'VG903_400mM']}"
   ]
  },
  {
   "cell_type": "code",
   "execution_count": 46,
   "metadata": {},
   "outputs": [
    {
     "output_type": "execute_result",
     "data": {
      "text/plain": "      tap     time  Ntrack   RevFreq  RevSpeed  RevDur  \\\n0       1   99.960      54  0.814815  0.247872    1.88   \n1       2  109.973      52  0.627451  0.213750    1.60   \n2       3  119.996      47  0.500000  0.211111    1.62   \n3       4  129.951      46  0.395349  0.218571    1.40   \n4       5  139.922      47  0.510638  0.188793    1.16   \n...   ...      ...     ...       ...       ...     ...   \n6232   26  349.922      79  0.243590  0.309890    1.82   \n6233   27  359.919      64  0.229508  0.296377    1.38   \n6234   28  369.978      67  0.261538  0.295327    1.07   \n6235   29  379.917      70  0.235294  0.239785    0.93   \n6236   30  389.988      75  0.239437  0.287500    1.20   \n\n                                                mwtpath strain     rx  \\\n0     /Volumes/COBOLT/MWT/20190127X_XX_100s30x10s10s...     N2    0mM   \n1     /Volumes/COBOLT/MWT/20190127X_XX_100s30x10s10s...     N2    0mM   \n2     /Volumes/COBOLT/MWT/20190127X_XX_100s30x10s10s...     N2    0mM   \n3     /Volumes/COBOLT/MWT/20190127X_XX_100s30x10s10s...     N2    0mM   \n4     /Volumes/COBOLT/MWT/20190127X_XX_100s30x10s10s...     N2    0mM   \n...                                                 ...    ...    ...   \n6232  /Volumes/COBOLT/MWT/20190418X_XX_100s30x10s10s...  VG902  400mM   \n6233  /Volumes/COBOLT/MWT/20190418X_XX_100s30x10s10s...  VG902  400mM   \n6234  /Volumes/COBOLT/MWT/20190418X_XX_100s30x10s10s...  VG902  400mM   \n6235  /Volumes/COBOLT/MWT/20190418X_XX_100s30x10s10s...  VG902  400mM   \n6236  /Volumes/COBOLT/MWT/20190418X_XX_100s30x10s10s...  VG902  400mM   \n\n        groupname  \n0              N2  \n1              N2  \n2              N2  \n3              N2  \n4              N2  \n...           ...  \n6232  VG902_400mM  \n6233  VG902_400mM  \n6234  VG902_400mM  \n6235  VG902_400mM  \n6236  VG902_400mM  \n\n[6237 rows x 10 columns]",
      "text/html": "<div>\n<style scoped>\n    .dataframe tbody tr th:only-of-type {\n        vertical-align: middle;\n    }\n\n    .dataframe tbody tr th {\n        vertical-align: top;\n    }\n\n    .dataframe thead th {\n        text-align: right;\n    }\n</style>\n<table border=\"1\" class=\"dataframe\">\n  <thead>\n    <tr style=\"text-align: right;\">\n      <th></th>\n      <th>tap</th>\n      <th>time</th>\n      <th>Ntrack</th>\n      <th>RevFreq</th>\n      <th>RevSpeed</th>\n      <th>RevDur</th>\n      <th>mwtpath</th>\n      <th>strain</th>\n      <th>rx</th>\n      <th>groupname</th>\n    </tr>\n  </thead>\n  <tbody>\n    <tr>\n      <th>0</th>\n      <td>1</td>\n      <td>99.960</td>\n      <td>54</td>\n      <td>0.814815</td>\n      <td>0.247872</td>\n      <td>1.88</td>\n      <td>/Volumes/COBOLT/MWT/20190127X_XX_100s30x10s10s...</td>\n      <td>N2</td>\n      <td>0mM</td>\n      <td>N2</td>\n    </tr>\n    <tr>\n      <th>1</th>\n      <td>2</td>\n      <td>109.973</td>\n      <td>52</td>\n      <td>0.627451</td>\n      <td>0.213750</td>\n      <td>1.60</td>\n      <td>/Volumes/COBOLT/MWT/20190127X_XX_100s30x10s10s...</td>\n      <td>N2</td>\n      <td>0mM</td>\n      <td>N2</td>\n    </tr>\n    <tr>\n      <th>2</th>\n      <td>3</td>\n      <td>119.996</td>\n      <td>47</td>\n      <td>0.500000</td>\n      <td>0.211111</td>\n      <td>1.62</td>\n      <td>/Volumes/COBOLT/MWT/20190127X_XX_100s30x10s10s...</td>\n      <td>N2</td>\n      <td>0mM</td>\n      <td>N2</td>\n    </tr>\n    <tr>\n      <th>3</th>\n      <td>4</td>\n      <td>129.951</td>\n      <td>46</td>\n      <td>0.395349</td>\n      <td>0.218571</td>\n      <td>1.40</td>\n      <td>/Volumes/COBOLT/MWT/20190127X_XX_100s30x10s10s...</td>\n      <td>N2</td>\n      <td>0mM</td>\n      <td>N2</td>\n    </tr>\n    <tr>\n      <th>4</th>\n      <td>5</td>\n      <td>139.922</td>\n      <td>47</td>\n      <td>0.510638</td>\n      <td>0.188793</td>\n      <td>1.16</td>\n      <td>/Volumes/COBOLT/MWT/20190127X_XX_100s30x10s10s...</td>\n      <td>N2</td>\n      <td>0mM</td>\n      <td>N2</td>\n    </tr>\n    <tr>\n      <th>...</th>\n      <td>...</td>\n      <td>...</td>\n      <td>...</td>\n      <td>...</td>\n      <td>...</td>\n      <td>...</td>\n      <td>...</td>\n      <td>...</td>\n      <td>...</td>\n      <td>...</td>\n    </tr>\n    <tr>\n      <th>6232</th>\n      <td>26</td>\n      <td>349.922</td>\n      <td>79</td>\n      <td>0.243590</td>\n      <td>0.309890</td>\n      <td>1.82</td>\n      <td>/Volumes/COBOLT/MWT/20190418X_XX_100s30x10s10s...</td>\n      <td>VG902</td>\n      <td>400mM</td>\n      <td>VG902_400mM</td>\n    </tr>\n    <tr>\n      <th>6233</th>\n      <td>27</td>\n      <td>359.919</td>\n      <td>64</td>\n      <td>0.229508</td>\n      <td>0.296377</td>\n      <td>1.38</td>\n      <td>/Volumes/COBOLT/MWT/20190418X_XX_100s30x10s10s...</td>\n      <td>VG902</td>\n      <td>400mM</td>\n      <td>VG902_400mM</td>\n    </tr>\n    <tr>\n      <th>6234</th>\n      <td>28</td>\n      <td>369.978</td>\n      <td>67</td>\n      <td>0.261538</td>\n      <td>0.295327</td>\n      <td>1.07</td>\n      <td>/Volumes/COBOLT/MWT/20190418X_XX_100s30x10s10s...</td>\n      <td>VG902</td>\n      <td>400mM</td>\n      <td>VG902_400mM</td>\n    </tr>\n    <tr>\n      <th>6235</th>\n      <td>29</td>\n      <td>379.917</td>\n      <td>70</td>\n      <td>0.235294</td>\n      <td>0.239785</td>\n      <td>0.93</td>\n      <td>/Volumes/COBOLT/MWT/20190418X_XX_100s30x10s10s...</td>\n      <td>VG902</td>\n      <td>400mM</td>\n      <td>VG902_400mM</td>\n    </tr>\n    <tr>\n      <th>6236</th>\n      <td>30</td>\n      <td>389.988</td>\n      <td>75</td>\n      <td>0.239437</td>\n      <td>0.287500</td>\n      <td>1.20</td>\n      <td>/Volumes/COBOLT/MWT/20190418X_XX_100s30x10s10s...</td>\n      <td>VG902</td>\n      <td>400mM</td>\n      <td>VG902_400mM</td>\n    </tr>\n  </tbody>\n</table>\n<p>6237 rows × 10 columns</p>\n</div>"
     },
     "metadata": {},
     "execution_count": 46
    }
   ],
   "source": [
    "df"
   ]
  },
  {
   "cell_type": "code",
   "execution_count": 49,
   "metadata": {},
   "outputs": [
    {
     "output_type": "execute_result",
     "data": {
      "text/plain": "     0         1       2    3                                4            5  \\\n0        Volumes  COBOLT  MWT  20190127X_XX_100s30x10s10s_slo1           N2   \n1        Volumes  COBOLT  MWT  20190127X_XX_100s30x10s10s_slo1           N2   \n2        Volumes  COBOLT  MWT  20190127X_XX_100s30x10s10s_slo1           N2   \n3        Volumes  COBOLT  MWT  20190127X_XX_100s30x10s10s_slo1           N2   \n4        Volumes  COBOLT  MWT  20190127X_XX_100s30x10s10s_slo1           N2   \n...  ..      ...     ...  ...                              ...          ...   \n6232     Volumes  COBOLT  MWT  20190418X_XX_100s30x10s10s_slo1  VG902_400mM   \n6233     Volumes  COBOLT  MWT  20190418X_XX_100s30x10s10s_slo1  VG902_400mM   \n6234     Volumes  COBOLT  MWT  20190418X_XX_100s30x10s10s_slo1  VG902_400mM   \n6235     Volumes  COBOLT  MWT  20190418X_XX_100s30x10s10s_slo1  VG902_400mM   \n6236     Volumes  COBOLT  MWT  20190418X_XX_100s30x10s10s_slo1  VG902_400mM   \n\n                    6  \n0     20190127_152716  \n1     20190127_152716  \n2     20190127_152716  \n3     20190127_152716  \n4     20190127_152716  \n...               ...  \n6232  20190418_142855  \n6233  20190418_142855  \n6234  20190418_142855  \n6235  20190418_142855  \n6236  20190418_142855  \n\n[6237 rows x 7 columns]",
      "text/html": "<div>\n<style scoped>\n    .dataframe tbody tr th:only-of-type {\n        vertical-align: middle;\n    }\n\n    .dataframe tbody tr th {\n        vertical-align: top;\n    }\n\n    .dataframe thead th {\n        text-align: right;\n    }\n</style>\n<table border=\"1\" class=\"dataframe\">\n  <thead>\n    <tr style=\"text-align: right;\">\n      <th></th>\n      <th>0</th>\n      <th>1</th>\n      <th>2</th>\n      <th>3</th>\n      <th>4</th>\n      <th>5</th>\n      <th>6</th>\n    </tr>\n  </thead>\n  <tbody>\n    <tr>\n      <th>0</th>\n      <td></td>\n      <td>Volumes</td>\n      <td>COBOLT</td>\n      <td>MWT</td>\n      <td>20190127X_XX_100s30x10s10s_slo1</td>\n      <td>N2</td>\n      <td>20190127_152716</td>\n    </tr>\n    <tr>\n      <th>1</th>\n      <td></td>\n      <td>Volumes</td>\n      <td>COBOLT</td>\n      <td>MWT</td>\n      <td>20190127X_XX_100s30x10s10s_slo1</td>\n      <td>N2</td>\n      <td>20190127_152716</td>\n    </tr>\n    <tr>\n      <th>2</th>\n      <td></td>\n      <td>Volumes</td>\n      <td>COBOLT</td>\n      <td>MWT</td>\n      <td>20190127X_XX_100s30x10s10s_slo1</td>\n      <td>N2</td>\n      <td>20190127_152716</td>\n    </tr>\n    <tr>\n      <th>3</th>\n      <td></td>\n      <td>Volumes</td>\n      <td>COBOLT</td>\n      <td>MWT</td>\n      <td>20190127X_XX_100s30x10s10s_slo1</td>\n      <td>N2</td>\n      <td>20190127_152716</td>\n    </tr>\n    <tr>\n      <th>4</th>\n      <td></td>\n      <td>Volumes</td>\n      <td>COBOLT</td>\n      <td>MWT</td>\n      <td>20190127X_XX_100s30x10s10s_slo1</td>\n      <td>N2</td>\n      <td>20190127_152716</td>\n    </tr>\n    <tr>\n      <th>...</th>\n      <td>...</td>\n      <td>...</td>\n      <td>...</td>\n      <td>...</td>\n      <td>...</td>\n      <td>...</td>\n      <td>...</td>\n    </tr>\n    <tr>\n      <th>6232</th>\n      <td></td>\n      <td>Volumes</td>\n      <td>COBOLT</td>\n      <td>MWT</td>\n      <td>20190418X_XX_100s30x10s10s_slo1</td>\n      <td>VG902_400mM</td>\n      <td>20190418_142855</td>\n    </tr>\n    <tr>\n      <th>6233</th>\n      <td></td>\n      <td>Volumes</td>\n      <td>COBOLT</td>\n      <td>MWT</td>\n      <td>20190418X_XX_100s30x10s10s_slo1</td>\n      <td>VG902_400mM</td>\n      <td>20190418_142855</td>\n    </tr>\n    <tr>\n      <th>6234</th>\n      <td></td>\n      <td>Volumes</td>\n      <td>COBOLT</td>\n      <td>MWT</td>\n      <td>20190418X_XX_100s30x10s10s_slo1</td>\n      <td>VG902_400mM</td>\n      <td>20190418_142855</td>\n    </tr>\n    <tr>\n      <th>6235</th>\n      <td></td>\n      <td>Volumes</td>\n      <td>COBOLT</td>\n      <td>MWT</td>\n      <td>20190418X_XX_100s30x10s10s_slo1</td>\n      <td>VG902_400mM</td>\n      <td>20190418_142855</td>\n    </tr>\n    <tr>\n      <th>6236</th>\n      <td></td>\n      <td>Volumes</td>\n      <td>COBOLT</td>\n      <td>MWT</td>\n      <td>20190418X_XX_100s30x10s10s_slo1</td>\n      <td>VG902_400mM</td>\n      <td>20190418_142855</td>\n    </tr>\n  </tbody>\n</table>\n<p>6237 rows × 7 columns</p>\n</div>"
     },
     "metadata": {},
     "execution_count": 49
    }
   ],
   "source": [
    "db = df['mwtpath'].str.split(pat='/', expand=True)\n"
   ]
  },
  {
   "cell_type": "code",
   "execution_count": 51,
   "metadata": {},
   "outputs": [
    {
     "output_type": "error",
     "ename": "SyntaxError",
     "evalue": "invalid syntax (<ipython-input-51-88eeb4464476>, line 6)",
     "traceback": [
      "\u001b[0;36m  File \u001b[0;32m\"<ipython-input-51-88eeb4464476>\"\u001b[0;36m, line \u001b[0;32m6\u001b[0m\n\u001b[0;31m    df[14].isin(GROUPS[group]GROUPS[group])\u001b[0m\n\u001b[0m                                  ^\u001b[0m\n\u001b[0;31mSyntaxError\u001b[0m\u001b[0;31m:\u001b[0m invalid syntax\n"
     ]
    }
   ],
   "source": [
    "group ='HKK796' \n",
    "GROUPS[group]\n",
    "# db[5].isin()\n",
    "\n",
    "\n",
    "df[14].isin(GROUPS[group]GROUPS[group])"
   ]
  },
  {
   "cell_type": "code",
   "execution_count": 37,
   "metadata": {},
   "outputs": [
    {
     "output_type": "execute_result",
     "data": {
      "text/plain": "0      HKK1165_400mM\n1      HKK1165_400mM\n2      HKK1165_400mM\n3      HKK1165_400mM\n4      HKK1165_400mM\n           ...      \n279          VC40862\n280          VC40862\n281          VC40862\n282          VC40862\n283          VC40862\nName: 14, Length: 284, dtype: object"
     },
     "metadata": {},
     "execution_count": 37
    }
   ],
   "source": [
    "path"
   ]
  },
  {
   "cell_type": "code",
   "execution_count": null,
   "metadata": {},
   "outputs": [],
   "source": []
  },
  {
   "cell_type": "code",
   "execution_count": null,
   "metadata": {},
   "outputs": [],
   "source": []
  },
  {
   "cell_type": "code",
   "execution_count": null,
   "metadata": {},
   "outputs": [],
   "source": []
  }
 ],
 "metadata": {
  "language_info": {
   "codemirror_mode": {
    "name": "ipython",
    "version": 3
   },
   "file_extension": ".py",
   "mimetype": "text/x-python",
   "name": "python",
   "nbconvert_exporter": "python",
   "pygments_lexer": "ipython3",
   "version": "3.7.7-final"
  },
  "orig_nbformat": 2,
  "kernelspec": {
   "name": "python3",
   "display_name": "Python 3"
  }
 },
 "nbformat": 4,
 "nbformat_minor": 2
}